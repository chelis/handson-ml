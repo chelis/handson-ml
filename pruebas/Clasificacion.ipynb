{
 "cells": [
  {
   "cell_type": "markdown",
   "metadata": {},
   "source": [
    "### Download MNIST"
   ]
  },
  {
   "cell_type": "code",
   "execution_count": 2,
   "metadata": {},
   "outputs": [],
   "source": [
    "from sklearn.datasets import fetch_mldata\n",
    "\n",
    "mnist = fetch_mldata('MNIST original')\n",
    "\n",
    "# datos y labels. Los datos son una fila por ejemplo. \n",
    "# Cada fila tiene 784 features o columnas o pixeles (28x28). Estos tienen valores de 0 a 255\n",
    "X, y = mnist[\"data\"], mnist[\"target\"]"
   ]
  },
  {
   "cell_type": "code",
   "execution_count": 7,
   "metadata": {},
   "outputs": [
    {
     "data": {
      "image/png": "[encoded data removed]",
      "text/plain": [
       "<matplotlib.figure.Figure at 0x7fe46f11f400>"
      ]
     },
     "metadata": {},
     "output_type": "display_data"
    }
   ],
   "source": [
    "%matplotlib inline\n",
    "\n",
    "import matplotlib\n",
    "import matplotlib.pyplot as plt\n",
    "\n",
    "some_digit = X[36000] # tomo un ejemplo cualquiera\n",
    "some_digit_image = some_digit.reshape(28,28) # convierto la fila en una matriz de 28x28 (784)\n",
    "plt.imshow(some_digit_image, cmap=matplotlib.cm.binary, interpolation=\"nearest\")\n",
    "plt.axis(\"off\")\n",
    "plt.show()\n",
    "\n",
    "# el conjunto ya está dividido en train y test\n",
    "X_train, X_test, y_train, y_test = X[:60000], X[60000:], y[:60000], y[60000:]\n",
    "\n",
    "import numpy as np\n",
    "\n",
    "# los mezclo para que despues los folds me vengan menos uniformes\n",
    "shuffle_index = np.random.permutation(60000)\n",
    "X_train, y_train = X_train[shuffle_index], y_train[shuffle_index]"
   ]
  },
  {
   "cell_type": "markdown",
   "metadata": {},
   "source": [
    "### Reconociendo el número 5"
   ]
  },
  {
   "cell_type": "code",
   "execution_count": 8,
   "metadata": {},
   "outputs": [
    {
     "name": "stdout",
     "output_type": "stream",
     "text": [
      "vectores binarios [ True False False ...,  True False False] [False False False ..., False False False]\n"
     ]
    }
   ],
   "source": [
    "y_train_5 = (y_train == 5)\n",
    "y_test_5 = (y_test == 5)\n",
    "\n",
    "print(\"vectores binarios\", y_train_5, y_test_5)"
   ]
  },
  {
   "cell_type": "code",
   "execution_count": 11,
   "metadata": {},
   "outputs": [
    {
     "data": {
      "text/plain": [
       "SGDClassifier(alpha=0.0001, average=False, class_weight=None, epsilon=0.1,\n",
       "       eta0=0.0, fit_intercept=True, l1_ratio=0.15,\n",
       "       learning_rate='optimal', loss='hinge', n_iter=5, n_jobs=1,\n",
       "       penalty='l2', power_t=0.5, random_state=42, shuffle=True, verbose=0,\n",
       "       warm_start=False)"
      ]
     },
     "execution_count": 11,
     "metadata": {},
     "output_type": "execute_result"
    }
   ],
   "source": [
    "from sklearn.linear_model import SGDClassifier # stochastic gradient descent\n",
    "\n",
    "clf = SGDClassifier(random_state=42)\n",
    "clf.fit(X_train, y_train_5)"
   ]
  },
  {
   "cell_type": "code",
   "execution_count": 14,
   "metadata": {},
   "outputs": [
    {
     "name": "stdout",
     "output_type": "stream",
     "text": [
      "[ True]\n",
      "[False]\n"
     ]
    },
    {
     "name": "stderr",
     "output_type": "stream",
     "text": [
      "/home/chelis/.virtualenvs/handson/local/lib/python3.5/site-packages/sklearn/utils/validation.py:395: DeprecationWarning: Passing 1d arrays as data is deprecated in 0.17 and will raise ValueError in 0.19. Reshape your data either using X.reshape(-1, 1) if your data has a single feature or X.reshape(1, -1) if it contains a single sample.\n",
      "  DeprecationWarning)\n",
      "/home/chelis/.virtualenvs/handson/local/lib/python3.5/site-packages/sklearn/utils/validation.py:395: DeprecationWarning: Passing 1d arrays as data is deprecated in 0.17 and will raise ValueError in 0.19. Reshape your data either using X.reshape(-1, 1) if your data has a single feature or X.reshape(1, -1) if it contains a single sample.\n",
      "  DeprecationWarning)\n"
     ]
    }
   ],
   "source": [
    "print(clf.predict(some_digit))\n",
    "some_digit2 = X[38000] # tomo un ejemplo cualquiera\n",
    "print(clf.predict(some_digit2))"
   ]
  },
  {
   "cell_type": "markdown",
   "metadata": {},
   "source": [
    "### Cross validation"
   ]
  },
  {
   "cell_type": "code",
   "execution_count": 15,
   "metadata": {},
   "outputs": [
    {
     "data": {
      "text/plain": [
       "array([ 0.9622 ,  0.95975,  0.96315])"
      ]
     },
     "execution_count": 15,
     "metadata": {},
     "output_type": "execute_result"
    }
   ],
   "source": [
    "from sklearn.model_selection import cross_val_score\n",
    "# cv=3 3-folds.\n",
    "cross_val_score(clf, X_train, y_train_5, cv=3, scoring=\"accuracy\")"
   ]
  },
  {
   "cell_type": "markdown",
   "metadata": {},
   "source": [
    "### Confusion matrix\n",
    "\n",
    "Accuracy no es el mejor metodo para medir si predice bien o no, porque depende de que tan sesgada sea la muestra y lo que esté tratando de predecir. Por ejemplo si hago un classifier que encuentre los \"NO 5\" y a todo digo que no es un 5, la accuracy en este dataset va a ser de alredededor del 90%. Las matrices de confusion son mejores. Esto mide cuantas veces algo fue clasificado erróneamente."
   ]
  },
  {
   "cell_type": "code",
   "execution_count": 23,
   "metadata": {},
   "outputs": [
    {
     "name": "stdout",
     "output_type": "stream",
     "text": [
      "[ True False False ..., False False False]\n",
      "precision: 0.816285193437\n",
      "recall: 0.743405275779\n"
     ]
    },
    {
     "data": {
      "text/plain": [
       "0.77814249855184403"
      ]
     },
     "execution_count": 23,
     "metadata": {},
     "output_type": "execute_result"
    }
   ],
   "source": [
    "from sklearn.model_selection import cross_val_predict\n",
    "\n",
    "y_train_pred = cross_val_predict(clf, X_train, y_train_5, cv=3)\n",
    "print(y_train_pred)\n",
    "\n",
    "from sklearn.metrics import confusion_matrix \n",
    "# filas = clase verdadera. Columna= clase predicha. Deberia ser diagonal\n",
    "confusion_matrix(y_train_5, y_train_pred)\n",
    "\n",
    "# precision = #proporción de veces que predije clase X cuando era de verdad clase X = TP/(TP + FP)\n",
    "# recall = proporción de veces que logro identificar a la clase X = TP/(TP + FN)\n",
    "\n",
    "from sklearn.metrics import precision_score, recall_score\n",
    "\n",
    "print(\"precision:\", precision_score(y_train_5, y_train_pred))\n",
    "print(\"recall:\", recall_score(y_train_5, y_train_pred))\n",
    "\n",
    "# F1 score = relacion entre precision y recall o harmonic mean. Esta medida solo sera alta si ambas metricas son altas\n",
    "\n",
    "from sklearn.metrics import f1_score\n",
    "\n",
    "f1_score(y_train_5, y_train_pred)"
   ]
  },
  {
   "cell_type": "markdown",
   "metadata": {},
   "source": [
    "#### no puedo modificar el threshold para definir que algo es positivo directamente con sciklearn, tengo que dar unas vueltas"
   ]
  },
  {
   "cell_type": "code",
   "execution_count": 30,
   "metadata": {},
   "outputs": [
    {
     "name": "stdout",
     "output_type": "stream",
     "text": [
      "[ 38527.7582954]\n",
      "[ True]\n",
      "[False]\n"
     ]
    },
    {
     "data": {
      "image/png": "[encoded data removed]",
      "text/plain": [
       "<matplotlib.figure.Figure at 0x7fe4a44216d8>"
      ]
     },
     "metadata": {},
     "output_type": "display_data"
    }
   ],
   "source": [
    "y_scores = clf.decision_function([some_digit])\n",
    "print(y_scores)\n",
    "threshold = 0\n",
    "print(y_scores > threshold)\n",
    "threshold = 40000\n",
    "print(y_scores > threshold)\n",
    "\n",
    "y_scores = cross_val_predict(clf, X_train, y_train_5, cv=3, method=\"decision_function\")\n",
    "from sklearn.metrics import precision_recall_curve\n",
    "\n",
    "precisions, recalls, thresholds = precision_recall_curve(y_train_5, y_scores)\n",
    "\n",
    "def plot_prt(p, r, t):\n",
    "    plt.plot(t, p[:-1], 'b--',label= \"precision\")\n",
    "    plt.plot(t, r[:-1], 'g-',label= 'recalls')\n",
    "    plt.xlabel(\"thresholds\")\n",
    "    plt.legend(loc=\"upper left\")\n",
    "    plt.ylim([0,1])\n",
    "    \n",
    "plot_prt(precisions, recalls, thresholds)"
   ]
  },
  {
   "cell_type": "code",
   "execution_count": 34,
   "metadata": {},
   "outputs": [
    {
     "name": "stdout",
     "output_type": "stream",
     "text": [
      "[ True False False ..., False False False]\n",
      "0.900327689787\n",
      "0.60819037078\n"
     ]
    }
   ],
   "source": [
    "x_train_pred_90 = (y_scores > 72000)\n",
    "print(x_train_pred_90)\n",
    "print(precision_score(y_train_5, x_train_pred_90))\n",
    "print(recall_score(y_train_5, x_train_pred_90))\n",
    "\n",
    "# pero el recall es muy bajo. Esto significa que tengo muchos falsos negavos. O sea, muchos 5 que dije que no eran 5."
   ]
  }
 ],
 "metadata": {
  "kernelspec": {
   "display_name": "Python 3",
   "language": "python",
   "name": "python3"
  },
  "language_info": {
   "codemirror_mode": {
    "name": "ipython",
    "version": 3
   },
   "file_extension": ".py",
   "mimetype": "text/x-python",
   "name": "python",
   "nbconvert_exporter": "python",
   "pygments_lexer": "ipython3",
   "version": "3.5.2"
  }
 },
 "nbformat": 4,
 "nbformat_minor": 2
}
