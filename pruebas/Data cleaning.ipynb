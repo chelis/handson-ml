{
 "cells": [
  {
   "cell_type": "code",
   "execution_count": 23,
   "metadata": {
    "collapsed": true
   },
   "outputs": [],
   "source": [
    "import pandas as pd\n",
    "import numpy as np\n",
    "\n",
    "with open('../datasets/housing/housing.csv') as f:\n",
    "    data  = pd.read_csv(f)"
   ]
  },
  {
   "cell_type": "code",
   "execution_count": 24,
   "metadata": {
    "collapsed": true
   },
   "outputs": [],
   "source": [
    "from sklearn.model_selection import train_test_split, StratifiedShuffleSplit"
   ]
  },
  {
   "cell_type": "markdown",
   "metadata": {},
   "source": [
    "### Estratificación según ingreso medio"
   ]
  },
  {
   "cell_type": "code",
   "execution_count": 25,
   "metadata": {
    "collapsed": true
   },
   "outputs": [],
   "source": [
    "def stratified_data_split(data):\n",
    "    \"\"\" hace un split que refleja la realidad dando iguales proporciones en la muestra sobre un atributo \"\"\"\n",
    "    data['income_category'] = np.ceil(data['median_income']/1.5)\n",
    "    data['income_category'].where(data['income_category'] < 5, 5.0, inplace=True)\n",
    "    split = StratifiedShuffleSplit(n_splits=1, test_size=0.2, random_state=42)\n",
    "    train_index, test_index = next(split.split(data, data['income_category']))\n",
    "    strat_train_set = data.loc[train_index]\n",
    "    strat_test_set = data.loc[test_index]\n",
    "    strat_test_set.drop(['income_category'], axis=1, inplace=True)\n",
    "    strat_train_set.drop(['income_category'], axis=1, inplace=True)\n",
    "    return strat_train_set, strat_test_set\n",
    "\n",
    "\n",
    "strat_train_set, strat_test_set = stratified_data_split(data)\n",
    "housing_labels = strat_train_set['median_house_value'].copy()\n",
    "housing = strat_train_set.drop('median_house_value',axis=1)\n",
    "# Hago una copia del set de datos para no alterarloo mientras exploro"
   ]
  },
  {
   "cell_type": "markdown",
   "metadata": {},
   "source": [
    "### reemplazando valores nulos"
   ]
  },
  {
   "cell_type": "code",
   "execution_count": 26,
   "metadata": {},
   "outputs": [
    {
     "data": {
      "text/plain": [
       "Imputer(axis=0, copy=True, missing_values='NaN', strategy='median', verbose=0)"
      ]
     },
     "execution_count": 26,
     "metadata": {},
     "output_type": "execute_result"
    }
   ],
   "source": [
    "# relleno los valores nulos con la mediana, pero también hay otras posibildades\n",
    "\n",
    "from sklearn.preprocessing import Imputer\n",
    "\n",
    "imputer = Imputer(strategy=\"median\")\n",
    "\n",
    "# tiro todas las columnas no numericas porque no puedo calcular la mediana en ellas\n",
    "housing_num = housing.drop('ocean_proximity',axis = 1)\n",
    "imputer.fit(housing_num)"
   ]
  },
  {
   "cell_type": "code",
   "execution_count": 27,
   "metadata": {
    "collapsed": true
   },
   "outputs": [],
   "source": [
    "#imputer.statistics_\n",
    "\n",
    "X = imputer.transform(housing_num)\n",
    "# X es un array numpy, lo vuelvo a poner en un data frame\n",
    "housing_tr = pd.DataFrame(X, columns=housing_num.columns)\n"
   ]
  },
  {
   "cell_type": "markdown",
   "metadata": {},
   "source": [
    "### encodeando categorias a atributos numericos"
   ]
  },
  {
   "cell_type": "code",
   "execution_count": 28,
   "metadata": {
    "collapsed": true
   },
   "outputs": [],
   "source": [
    "# convert text columns to numbers so the algorithms can handle them. Este puede provocar que los algoritmos\n",
    "#supongan que la categoria 0 sea similar a la 1\n",
    "from sklearn.preprocessing import LabelEncoder\n",
    "encoder = LabelEncoder()\n",
    "housing_cat = housing['ocean_proximity']\n",
    "housing_cat_encoded = encoder.fit_transform(housing_cat)\n"
   ]
  },
  {
   "cell_type": "code",
   "execution_count": 29,
   "metadata": {
    "collapsed": true
   },
   "outputs": [],
   "source": [
    "# para que no haya similitudes falsas, uso un vector binario\n",
    "from sklearn.preprocessing import OneHotEncoder\n",
    "encoder = OneHotEncoder()\n",
    "unspecified = -1\n",
    "housing_cat_1hot= encoder.fit_transform(housing_cat_encoded.reshape(unspecified,1)) # -1 means unspecified\n"
   ]
  },
  {
   "cell_type": "code",
   "execution_count": 30,
   "metadata": {
    "collapsed": true
   },
   "outputs": [],
   "source": [
    "#To combine the two steps in one we have a LabelBinarizer\n",
    "from sklearn.preprocessing import LabelBinarizer\n",
    "encoder = LabelBinarizer(sparse_output=True)\n",
    "housing_cat = housing['ocean_proximity']\n",
    "housing_cat_encoded_1hot = encoder.fit_transform(housing_cat)\n"
   ]
  },
  {
   "cell_type": "markdown",
   "metadata": {},
   "source": [
    "### derivando atributos con mejor correlación"
   ]
  },
  {
   "cell_type": "code",
   "execution_count": 31,
   "metadata": {
    "collapsed": true
   },
   "outputs": [],
   "source": [
    "# puedo hacer un Transformer que me agregue atributos, y lo puedo poner luego en un pipeline\n",
    "from sklearn.base import BaseEstimator, TransformerMixin\n",
    "\n",
    "rooms_ix, bedrooms_ix, population_ix, household_ix = 3, 4, 5, 6\n",
    "\n",
    "# Base Estimator me da un get_params y set_params\n",
    "class CombinedAttributesAdder(BaseEstimator, TransformerMixin):\n",
    "    def __init__(self, add_bedrooms_per_room = True):\n",
    "            self.add_bedrooms_per_room = add_bedrooms_per_room\n",
    "    def fit(self, X, y=None):\n",
    "        return self\n",
    "    def transform(self, X, y=None):\n",
    "        rooms_per_household = X[:, rooms_ix]/X[:, household_ix]\n",
    "        population_per_household = X[:, population_ix]/X[:, household_ix]\n",
    "        if self.add_bedrooms_per_room:\n",
    "            bedrooms_per_room = X[:, bedrooms_ix]/X[:, rooms_ix]\n",
    "            return np.c_[X, rooms_per_household, population_per_household, bedrooms_per_room]\n",
    "        else:\n",
    "            return np.c_[X, rooms_per_household, population_per_household]\n",
    "attr_adder = CombinedAttributesAdder(False)\n",
    "housing_extra_attr = attr_adder.transform(housing.values)"
   ]
  },
  {
   "cell_type": "markdown",
   "metadata": {},
   "source": [
    "### pipeline"
   ]
  },
  {
   "cell_type": "code",
   "execution_count": 32,
   "metadata": {
    "collapsed": true
   },
   "outputs": [],
   "source": [
    "from sklearn.base import BaseEstimator, TransformerMixin\n",
    "\n",
    "class DataFrameSelector(BaseEstimator, TransformerMixin):\n",
    "    \"\"\" handles pandas dataframes and returns columns as numpy arrays. There is also a sklearn-pandas egg, and it\n",
    "    may be that something is added to sklearn in the future as ColumnTransfrmer\"\"\"\n",
    "    def __init__(self, attribute_names):\n",
    "        self.attribute_names = attribute_names\n",
    "    def fit(self, X, y=None):\n",
    "        return self\n",
    "    def transform(self, X):\n",
    "        return X[self.attribute_names].values"
   ]
  },
  {
   "cell_type": "code",
   "execution_count": 33,
   "metadata": {},
   "outputs": [],
   "source": [
    "# combinando todo en pipelines combinadas\n",
    "from sklearn.pipeline import FeatureUnion, Pipeline\n",
    "from sklearn.preprocessing import StandardScaler\n",
    "\n",
    "# empiezo de nuevo haciendo un split\n",
    "strat_train_set, strat_test_set = stratified_data_split(data)\n",
    "housing_labels = strat_train_set['median_house_value'].copy()\n",
    "housing = strat_train_set.drop('median_house_value',axis=1)\n",
    "\n",
    "\n",
    "num_attribs = list(housing_num)\n",
    "cat_attribs = [\"ocean_proximity\"]\n",
    "\n",
    "num_pipeline = Pipeline([('selector', DataFrameSelector(num_attribs)),\n",
    "                         ('imputer', Imputer(strategy=\"median\")),\n",
    "                        ('attribs_adder', CombinedAttributesAdder()),\n",
    "                        ('std_scaleer', StandardScaler())])\n",
    "cat_pipeline = Pipeline([('selector', DataFrameSelector(cat_attribs)),\n",
    "                         ('label_binarizer', LabelBinarizer())])\n",
    "\n",
    "full_pipeline = FeatureUnion(transformer_list = [('num_pipeline', num_pipeline),\n",
    "                                                ('cat_pipeline', cat_pipeline)])\n",
    "\n",
    "housing_prepared = full_pipeline.fit_transform(housing)"
   ]
  },
  {
   "cell_type": "markdown",
   "metadata": {},
   "source": [
    "### Training a Linear Regression Model"
   ]
  },
  {
   "cell_type": "code",
   "execution_count": 34,
   "metadata": {},
   "outputs": [
    {
     "name": "stdout",
     "output_type": "stream",
     "text": [
      "predictions [ 210644.60459286  317768.80697211  210956.43331178   59218.98886849\n",
      "  189747.55849879]\n",
      "labels [286600.0, 340600.0, 196900.0, 46300.0, 254500.0]\n"
     ]
    }
   ],
   "source": [
    "from sklearn.linear_model import LinearRegression\n",
    "linear_reg = LinearRegression()\n",
    "linear_reg.fit(housing_prepared, housing_labels)\n",
    "\n",
    "\n",
    "# empizo de nuevo haciendo un split\n",
    "strat_train_set, strat_test_set = stratified_data_split(data)\n",
    "housing_labels = strat_train_set['median_house_value'].copy()\n",
    "housing = strat_train_set.drop('median_house_value',axis=1)\n",
    "\n",
    "housing_prepared = full_pipeline.fit_transform(housing)\n",
    "\n",
    "# entreno en unos pocos ejemplos\n",
    "some_data = housing.iloc[:5]\n",
    "some_labels = housing_labels.iloc[:5]\n",
    "\n",
    "some_data_prepared = full_pipeline.transform(some_data)\n",
    "print(\"predictions\", linear_reg.predict(some_data_prepared))\n",
    "print(\"labels\", list(some_labels))"
   ]
  },
  {
   "cell_type": "markdown",
   "metadata": {},
   "source": [
    "#### Mido el RMSE en TODO el training set"
   ]
  },
  {
   "cell_type": "code",
   "execution_count": 35,
   "metadata": {},
   "outputs": [
    {
     "name": "stdout",
     "output_type": "stream",
     "text": [
      "68628.1981985\n"
     ]
    }
   ],
   "source": [
    "from sklearn.metrics import mean_squared_error\n",
    "\n",
    "housing_predictions = linear_reg.predict(housing_prepared)\n",
    "linear_mse = mean_squared_error(housing_labels, housing_predictions)\n",
    "linear_mse = np.sqrt(linear_mse)\n",
    "print(linear_mse)"
   ]
  },
  {
   "cell_type": "markdown",
   "metadata": {},
   "source": [
    "#### como el error es muy significativo, intento con un modelo mas complejo\n",
    "### DecisionTrees"
   ]
  },
  {
   "cell_type": "code",
   "execution_count": 36,
   "metadata": {},
   "outputs": [
    {
     "name": "stdout",
     "output_type": "stream",
     "text": [
      "0.0\n"
     ]
    }
   ],
   "source": [
    "from sklearn.tree import DecisionTreeRegressor\n",
    "\n",
    "tree_reg = DecisionTreeRegressor()\n",
    "tree_reg.fit(housing_prepared, housing_labels)\n",
    "\n",
    "housing_predictions = tree_reg.predict(housing_prepared)\n",
    "tree_mse = mean_squared_error(housing_labels, housing_predictions)\n",
    "tree_rmse = np.sqrt(tree_mse)\n",
    "print(tree_rmse)"
   ]
  },
  {
   "cell_type": "markdown",
   "metadata": {},
   "source": [
    "Hice overfitting, intento dividir el training set en kfolds para hacer crossvalidation"
   ]
  },
  {
   "cell_type": "code",
   "execution_count": 38,
   "metadata": {},
   "outputs": [
    {
     "name": "stdout",
     "output_type": "stream",
     "text": [
      "[ 69431.70410223  66132.38846557  70876.994708    69203.76157866\n",
      "  71178.36699252  74589.12409401  70956.50586076  69888.70946298\n",
      "  76533.16939319  70430.56168355]\n"
     ]
    }
   ],
   "source": [
    "from sklearn.model_selection import cross_val_score\n",
    "\n",
    "scores = cross_val_score(tree_reg, housing_prepared, housing_labels, scoring=\"neg_mean_squared_error\", cv=10)\n",
    "rmse_scores = np.sqrt(-scores)\n",
    "print(rmse_scores)"
   ]
  },
  {
   "cell_type": "code",
   "execution_count": 41,
   "metadata": {},
   "outputs": [
    {
     "name": "stdout",
     "output_type": "stream",
     "text": [
      "22181.3546494\n",
      "[ 51699.1315119   49841.71870173  52411.67553883  55498.64330241\n",
      "  51872.48766805  55690.66118272  50894.32585581  50039.44807422\n",
      "  54675.7246863   53691.02465115]\n"
     ]
    }
   ],
   "source": [
    "from sklearn.ensemble import RandomForestRegressor\n",
    "\n",
    "forest_reg = RandomForestRegressor()\n",
    "forest_reg.fit(housing_prepared, housing_labels)\n",
    "\n",
    "housing_predictions = forest_reg.predict(housing_prepared)\n",
    "forest_mse = mean_squared_error(housing_labels, housing_predictions)\n",
    "forest_rmse = np.sqrt(forest_mse)\n",
    "print(forest_rmse)\n",
    "\n",
    "scores = cross_val_score(forest_reg, housing_prepared, housing_labels, scoring=\"neg_mean_squared_error\", cv=10)\n",
    "rmse_scores = np.sqrt(-scores)\n",
    "print(rmse_scores)"
   ]
  },
  {
   "cell_type": "markdown",
   "metadata": {},
   "source": [
    "Una vez que probamos muchos modelos podemos hacer una shortlist con los que mejor funcionan y empezar a tunear los parametros. Para tunear estos parametros hay varios metodos en sklearn\n",
    "\n",
    "### Sklearn - GridSearchCV:\n",
    "  Le podemos decir que parametros queremos probar con que valores y prueba todas las combinaciones haciend cross validatoin\n",
    "\n"
   ]
  },
  {
   "cell_type": "code",
   "execution_count": 43,
   "metadata": {},
   "outputs": [
    {
     "data": {
      "text/plain": [
       "GridSearchCV(cv=5, error_score='raise',\n",
       "       estimator=RandomForestRegressor(bootstrap=True, criterion='mse', max_depth=None,\n",
       "           max_features='auto', max_leaf_nodes=None,\n",
       "           min_impurity_split=1e-07, min_samples_leaf=1,\n",
       "           min_samples_split=2, min_weight_fraction_leaf=0.0,\n",
       "           n_estimators=10, n_jobs=1, oob_score=False, random_state=None,\n",
       "           verbose=0, warm_start=False),\n",
       "       fit_params={}, iid=True, n_jobs=1,\n",
       "       param_grid=[{'n_estimators': [3, 10, 30], 'max_features': [2, 4, 6, 8]}, {'n_estimators': [3, 10], 'bootstrap': [False], 'max_features': [2, 3, 4]}],\n",
       "       pre_dispatch='2*n_jobs', refit=True, return_train_score=True,\n",
       "       scoring='neg_mean_squared_error', verbose=0)"
      ]
     },
     "execution_count": 43,
     "metadata": {},
     "output_type": "execute_result"
    }
   ],
   "source": [
    "from sklearn.model_selection import GridSearchCV\n",
    "\n",
    "param_grid = [\n",
    "    {'n_estimators':[3,10,30], 'max_features':[2,4,6,8]},\n",
    "    {'bootstrap':[False], 'n_estimators':[3,10], 'max_features':[2,3,4]}\n",
    "]\n",
    "\n",
    "forest_reg = RandomForestRegressor()\n",
    "\n",
    "grid_search = GridSearchCV(forest_reg, param_grid, cv=5, scoring='neg_mean_squared_error')\n",
    "grid_search.fit(housing_prepared, housing_labels)\n"
   ]
  },
  {
   "cell_type": "code",
   "execution_count": 44,
   "metadata": {},
   "outputs": [
    {
     "data": {
      "text/plain": [
       "{'max_features': 8, 'n_estimators': 30}"
      ]
     },
     "execution_count": 44,
     "metadata": {},
     "output_type": "execute_result"
    }
   ],
   "source": [
    "grid_search.best_params_"
   ]
  },
  {
   "cell_type": "code",
   "execution_count": 46,
   "metadata": {},
   "outputs": [
    {
     "data": {
      "text/plain": [
       "RandomForestRegressor(bootstrap=True, criterion='mse', max_depth=None,\n",
       "           max_features=8, max_leaf_nodes=None, min_impurity_split=1e-07,\n",
       "           min_samples_leaf=1, min_samples_split=2,\n",
       "           min_weight_fraction_leaf=0.0, n_estimators=30, n_jobs=1,\n",
       "           oob_score=False, random_state=None, verbose=0, warm_start=False)"
      ]
     },
     "execution_count": 46,
     "metadata": {},
     "output_type": "execute_result"
    }
   ],
   "source": [
    "grid_search.best_estimator_"
   ]
  },
  {
   "cell_type": "code",
   "execution_count": 48,
   "metadata": {},
   "outputs": [
    {
     "name": "stdout",
     "output_type": "stream",
     "text": [
      "64389.8750758 {'n_estimators': 3, 'max_features': 2}\n",
      "55178.2956624 {'n_estimators': 10, 'max_features': 2}\n",
      "53033.2969937 {'n_estimators': 30, 'max_features': 2}\n",
      "60036.9685812 {'n_estimators': 3, 'max_features': 4}\n",
      "52956.2582577 {'n_estimators': 10, 'max_features': 4}\n",
      "50590.0671948 {'n_estimators': 30, 'max_features': 4}\n",
      "59654.6004544 {'n_estimators': 3, 'max_features': 6}\n",
      "51899.7713668 {'n_estimators': 10, 'max_features': 6}\n",
      "50289.0612705 {'n_estimators': 30, 'max_features': 6}\n",
      "58996.36459 {'n_estimators': 3, 'max_features': 8}\n",
      "51982.5370184 {'n_estimators': 10, 'max_features': 8}\n",
      "50231.089373 {'n_estimators': 30, 'max_features': 8}\n",
      "62949.9972417 {'n_estimators': 3, 'bootstrap': False, 'max_features': 2}\n",
      "54592.3599497 {'n_estimators': 10, 'bootstrap': False, 'max_features': 2}\n",
      "60698.1964375 {'n_estimators': 3, 'bootstrap': False, 'max_features': 3}\n",
      "52725.3322369 {'n_estimators': 10, 'bootstrap': False, 'max_features': 3}\n",
      "58321.7361255 {'n_estimators': 3, 'bootstrap': False, 'max_features': 4}\n",
      "51912.3829291 {'n_estimators': 10, 'bootstrap': False, 'max_features': 4}\n"
     ]
    }
   ],
   "source": [
    "cv = grid_search.cv_results_\n",
    "for mean_score, params in zip(cv[\"mean_test_score\"], cv[\"params\"]):\n",
    "    print(np.sqrt(-mean_score), params)"
   ]
  },
  {
   "cell_type": "markdown",
   "metadata": {},
   "source": [
    "### Inspeccionar la importancia de los features"
   ]
  },
  {
   "cell_type": "code",
   "execution_count": 54,
   "metadata": {},
   "outputs": [
    {
     "data": {
      "text/plain": [
       "[(0.409300299919517, 'median_income'),\n",
       " (0.14919868990137619, 'INLAND'),\n",
       " (0.10826104919133711, 'pop_per_hold'),\n",
       " (0.071912115871490198, 'longitude'),\n",
       " (0.063917351431586153, 'latitude'),\n",
       " (0.046144896734043164, 'rooms_per_hhold'),\n",
       " (0.042876887196382572, 'housing_median_age'),\n",
       " (0.036219185151234699, 'bedrooms_per_room'),\n",
       " (0.015998327350167225, 'total_rooms'),\n",
       " (0.015101774128516621, 'total_bedrooms'),\n",
       " (0.01481676864951747, 'population'),\n",
       " (0.014548196730718801, 'households'),\n",
       " (0.0067734409975348129, '<1H OCEAN'),\n",
       " (0.0029233522834225122, 'NEAR OCEAN'),\n",
       " (0.0019204730085163278, 'NEAR BAY'),\n",
       " (8.7191454639277288e-05, 'ISLAND')]"
      ]
     },
     "execution_count": 54,
     "metadata": {},
     "output_type": "execute_result"
    }
   ],
   "source": [
    "extra_attr = [\"rooms_per_hhold\", \"pop_per_hold\",\"bedrooms_per_room\"]\n",
    "cat_one_hot_attr = list(encoder.classes_)\n",
    "attrs = num_attribs + extra_attr + cat_one_hot_attr\n",
    "\n",
    "feature_importances = grid_search.best_estimator_.feature_importances_\n",
    "sorted(zip(feature_importances, attrs), reverse=True)"
   ]
  },
  {
   "cell_type": "markdown",
   "metadata": {},
   "source": [
    "### Evaluar el modelo final en el test set"
   ]
  },
  {
   "cell_type": "code",
   "execution_count": 55,
   "metadata": {},
   "outputs": [
    {
     "name": "stdout",
     "output_type": "stream",
     "text": [
      "47827.1113235\n"
     ]
    }
   ],
   "source": [
    "final_model = grid_search.best_estimator_\n",
    "\n",
    "X_test = strat_test_set.drop(\"median_house_value\", axis=1)\n",
    "Y_test = strat_test_set[\"median_house_value\"].copy()\n",
    "\n",
    "X_test_prepared = full_pipeline.transform(X_test)\n",
    "final_predictions = final_model.predict(X_test_prepared)\n",
    "\n",
    "final_mse = mean_squared_error(Y_test, final_predictions)\n",
    "final_rmse = np.sqrt(final_mse)\n",
    "print(final_rmse)\n"
   ]
  }
 ],
 "metadata": {
  "kernelspec": {
   "display_name": "Python 3",
   "language": "python",
   "name": "python3"
  },
  "language_info": {
   "codemirror_mode": {
    "name": "ipython",
    "version": 3
   },
   "file_extension": ".py",
   "mimetype": "text/x-python",
   "name": "python",
   "nbconvert_exporter": "python",
   "pygments_lexer": "ipython3",
   "version": "3.5.2"
  }
 },
 "nbformat": 4,
 "nbformat_minor": 2
}
