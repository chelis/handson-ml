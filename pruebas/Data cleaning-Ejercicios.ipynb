{
 "cells": [
  {
   "cell_type": "code",
   "execution_count": 34,
   "metadata": {
    "collapsed": true
   },
   "outputs": [],
   "source": [
    "import pandas as pd\n",
    "import numpy as np\n",
    "\n",
    "with open('../datasets/housing/housing.csv') as f:\n",
    "    data  = pd.read_csv(f)"
   ]
  },
  {
   "cell_type": "code",
   "execution_count": 35,
   "metadata": {
    "collapsed": true
   },
   "outputs": [],
   "source": [
    "from sklearn.model_selection import train_test_split, StratifiedShuffleSplit"
   ]
  },
  {
   "cell_type": "markdown",
   "metadata": {},
   "source": [
    "### Estratificación según ingreso medio"
   ]
  },
  {
   "cell_type": "code",
   "execution_count": 36,
   "metadata": {
    "collapsed": true
   },
   "outputs": [],
   "source": [
    "def stratified_data_split(data):\n",
    "    \"\"\" hace un split que refleja la realidad dando iguales proporciones en la muestra sobre un atributo \"\"\"\n",
    "    data['income_category'] = np.ceil(data['median_income']/1.5)\n",
    "    data['income_category'].where(data['income_category'] < 5, 5.0, inplace=True)\n",
    "    split = StratifiedShuffleSplit(n_splits=1, test_size=0.2, random_state=42)\n",
    "    train_index, test_index = next(split.split(data, data['income_category']))\n",
    "    strat_train_set = data.loc[train_index]\n",
    "    strat_test_set = data.loc[test_index]\n",
    "    strat_test_set.drop(['income_category'], axis=1, inplace=True)\n",
    "    strat_train_set.drop(['income_category'], axis=1, inplace=True)\n",
    "    return strat_train_set, strat_test_set"
   ]
  },
  {
   "cell_type": "markdown",
   "metadata": {},
   "source": [
    "### reemplazando valores nulos"
   ]
  },
  {
   "cell_type": "code",
   "execution_count": 37,
   "metadata": {},
   "outputs": [
    {
     "data": {
      "text/plain": [
       "Imputer(axis=0, copy=True, missing_values='NaN', strategy='median', verbose=0)"
      ]
     },
     "execution_count": 37,
     "metadata": {},
     "output_type": "execute_result"
    }
   ],
   "source": [
    "# relleno los valores nulos con la mediana, pero también hay otras posibildades\n",
    "\n",
    "from sklearn.preprocessing import Imputer\n",
    "\n",
    "imputer = Imputer(strategy=\"median\")\n",
    "\n",
    "# tiro todas las columnas no numericas porque no puedo calcular la mediana en ellas\n",
    "housing_num = housing.drop('ocean_proximity',axis = 1)\n",
    "imputer.fit(housing_num)"
   ]
  },
  {
   "cell_type": "code",
   "execution_count": 38,
   "metadata": {
    "collapsed": true
   },
   "outputs": [],
   "source": [
    "#imputer.statistics_\n",
    "\n",
    "X = imputer.transform(housing_num)\n",
    "# X es un array numpy, lo vuelvo a poner en un data frame\n",
    "housing_tr = pd.DataFrame(X, columns=housing_num.columns)\n"
   ]
  },
  {
   "cell_type": "markdown",
   "metadata": {},
   "source": [
    "### encodeando categorias a atributos numericos"
   ]
  },
  {
   "cell_type": "code",
   "execution_count": 39,
   "metadata": {
    "collapsed": true
   },
   "outputs": [],
   "source": [
    "#To combine the two steps in one we have a LabelBinarizer\n",
    "from sklearn.preprocessing import LabelBinarizer\n",
    "encoder = LabelBinarizer(sparse_output=True)\n",
    "housing_cat = housing['ocean_proximity']\n",
    "housing_cat_encoded_1hot = encoder.fit_transform(housing_cat)\n"
   ]
  },
  {
   "cell_type": "markdown",
   "metadata": {},
   "source": [
    "### derivando atributos con mejor correlación"
   ]
  },
  {
   "cell_type": "code",
   "execution_count": 40,
   "metadata": {
    "collapsed": true
   },
   "outputs": [],
   "source": [
    "# puedo hacer un Transformer que me agregue atributos, y lo puedo poner luego en un pipeline\n",
    "from sklearn.base import BaseEstimator, TransformerMixin\n",
    "\n",
    "rooms_ix, bedrooms_ix, population_ix, household_ix = 3, 4, 5, 6\n",
    "\n",
    "# Base Estimator me da un get_params y set_params\n",
    "class CombinedAttributesAdder(BaseEstimator, TransformerMixin):\n",
    "    def __init__(self, add_bedrooms_per_room = True):\n",
    "            self.add_bedrooms_per_room = add_bedrooms_per_room\n",
    "    def fit(self, X, y=None):\n",
    "        return self\n",
    "    def transform(self, X, y=None):\n",
    "        rooms_per_household = X[:, rooms_ix]/X[:, household_ix]\n",
    "        population_per_household = X[:, population_ix]/X[:, household_ix]\n",
    "        if self.add_bedrooms_per_room:\n",
    "            bedrooms_per_room = X[:, bedrooms_ix]/X[:, rooms_ix]\n",
    "            return np.c_[X, rooms_per_household, population_per_household, bedrooms_per_room]\n",
    "        else:\n",
    "            return np.c_[X, rooms_per_household, population_per_household]\n",
    "attr_adder = CombinedAttributesAdder(False)\n",
    "housing_extra_attr = attr_adder.transform(housing.values)"
   ]
  },
  {
   "cell_type": "markdown",
   "metadata": {},
   "source": [
    "### pipeline"
   ]
  },
  {
   "cell_type": "code",
   "execution_count": 41,
   "metadata": {
    "collapsed": true
   },
   "outputs": [],
   "source": [
    "from sklearn.base import BaseEstimator, TransformerMixin\n",
    "\n",
    "class DataFrameSelector(BaseEstimator, TransformerMixin):\n",
    "    \"\"\" handles pandas dataframes and returns columns as numpy arrays. There is also a sklearn-pandas egg, and it\n",
    "    may be that something is added to sklearn in the future as ColumnTransfrmer\"\"\"\n",
    "    def __init__(self, attribute_names):\n",
    "        self.attribute_names = attribute_names\n",
    "    def fit(self, X, y=None):\n",
    "        return self\n",
    "    def transform(self, X):\n",
    "        return X[self.attribute_names].values"
   ]
  },
  {
   "cell_type": "code",
   "execution_count": 42,
   "metadata": {
    "collapsed": true
   },
   "outputs": [],
   "source": [
    "# combinando todo en pipelines combinadas\n",
    "from sklearn.pipeline import FeatureUnion, Pipeline\n",
    "from sklearn.preprocessing import StandardScaler\n",
    "\n",
    "\n",
    "num_attribs = list(housing_num)\n",
    "cat_attribs = [\"ocean_proximity\"]\n",
    "\n",
    "num_pipeline = Pipeline([('selector', DataFrameSelector(num_attribs)),\n",
    "                         ('imputer', Imputer(strategy=\"median\")),\n",
    "                        ('attribs_adder', CombinedAttributesAdder()),\n",
    "                        ('std_scaleer', StandardScaler())])\n",
    "cat_pipeline = Pipeline([('selector', DataFrameSelector(cat_attribs)),\n",
    "                         ('label_binarizer', LabelBinarizer())])\n",
    "\n",
    "full_pipeline = FeatureUnion(transformer_list = [('num_pipeline', num_pipeline),\n",
    "                                                ('cat_pipeline', cat_pipeline)])\n",
    "\n"
   ]
  },
  {
   "cell_type": "markdown",
   "metadata": {},
   "source": [
    "### Preparando el conjunto de datos"
   ]
  },
  {
   "cell_type": "code",
   "execution_count": 43,
   "metadata": {},
   "outputs": [],
   "source": [
    "from sklearn.linear_model import LinearRegression\n",
    "linear_reg = LinearRegression()\n",
    "linear_reg.fit(housing_prepared, housing_labels)\n",
    "\n",
    "\n",
    "# empizo de nuevo haciendo un split\n",
    "strat_train_set, strat_test_set = stratified_data_split(data)\n",
    "housing_labels = strat_train_set['median_house_value'].copy()\n",
    "housing = strat_train_set.drop('median_house_value',axis=1)\n",
    "\n",
    "housing_prepared = full_pipeline.fit_transform(housing)"
   ]
  },
  {
   "cell_type": "markdown",
   "metadata": {},
   "source": [
    "Una vez que probamos muchos modelos podemos hacer una shortlist con los que mejor funcionan y empezar a tunear los parametros. Para tunear estos parametros hay varios metodos en sklearn\n",
    "\n",
    "### Sklearn - RandomizedSearchCV:\n",
    "  Le podemos decir que parametros queremos probar con que valores y prueba todas las combinaciones haciend cross validatoin\n",
    "\n"
   ]
  },
  {
   "cell_type": "code",
   "execution_count": 44,
   "metadata": {},
   "outputs": [
    {
     "data": {
      "text/plain": [
       "RandomizedSearchCV(cv=5, error_score='raise',\n",
       "          estimator=RandomForestRegressor(bootstrap=True, criterion='mse', max_depth=None,\n",
       "           max_features='auto', max_leaf_nodes=None,\n",
       "           min_impurity_split=1e-07, min_samples_leaf=1,\n",
       "           min_samples_split=2, min_weight_fraction_leaf=0.0,\n",
       "           n_estimators=10, n_jobs=1, oob_score=False, random_state=None,\n",
       "           verbose=0, warm_start=False),\n",
       "          fit_params={}, iid=True, n_iter=10, n_jobs=1,\n",
       "          param_distributions={'n_estimators': <scipy.stats._distn_infrastructure.rv_frozen object at 0x7f00cef699e8>, 'max_features': <scipy.stats._distn_infrastructure.rv_frozen object at 0x7f00cef69828>},\n",
       "          pre_dispatch='2*n_jobs', random_state=42, refit=True,\n",
       "          return_train_score=True, scoring='neg_mean_squared_error',\n",
       "          verbose=0)"
      ]
     },
     "execution_count": 44,
     "metadata": {},
     "output_type": "execute_result"
    }
   ],
   "source": [
    "from sklearn.ensemble import RandomForestRegressor\n",
    "from sklearn.model_selection import RandomizedSearchCV\n",
    "from scipy.stats import randint\n",
    "\n",
    "param_distribs = {\n",
    "        'n_estimators': randint(low=1, high=200),\n",
    "        'max_features': randint(low=1, high=8),\n",
    "    }\n",
    "\n",
    "forest_reg = RandomForestRegressor(random_state=42)\n",
    "\n",
    "\n",
    "forest_reg = RandomForestRegressor()\n",
    "grid_search = RandomizedSearchCV(forest_reg, param_distributions=param_distribs,\n",
    "                                n_iter=10, cv=5, scoring='neg_mean_squared_error', random_state=42)\n",
    "\n",
    "\n",
    "grid_search.fit(housing_prepared, housing_labels)\n"
   ]
  },
  {
   "cell_type": "code",
   "execution_count": 45,
   "metadata": {},
   "outputs": [
    {
     "data": {
      "text/plain": [
       "{'max_features': 7, 'n_estimators': 122}"
      ]
     },
     "execution_count": 45,
     "metadata": {},
     "output_type": "execute_result"
    }
   ],
   "source": [
    "grid_search.best_params_"
   ]
  },
  {
   "cell_type": "code",
   "execution_count": 46,
   "metadata": {},
   "outputs": [
    {
     "data": {
      "text/plain": [
       "RandomForestRegressor(bootstrap=True, criterion='mse', max_depth=None,\n",
       "           max_features=7, max_leaf_nodes=None, min_impurity_split=1e-07,\n",
       "           min_samples_leaf=1, min_samples_split=2,\n",
       "           min_weight_fraction_leaf=0.0, n_estimators=122, n_jobs=1,\n",
       "           oob_score=False, random_state=None, verbose=0, warm_start=False)"
      ]
     },
     "execution_count": 46,
     "metadata": {},
     "output_type": "execute_result"
    }
   ],
   "source": [
    "grid_search.best_estimator_"
   ]
  },
  {
   "cell_type": "code",
   "execution_count": 47,
   "metadata": {},
   "outputs": [
    {
     "name": "stdout",
     "output_type": "stream",
     "text": [
      "49269.7823995 {'n_estimators': 180, 'max_features': 7}\n",
      "51380.9329938 {'n_estimators': 15, 'max_features': 5}\n",
      "50567.547672 {'n_estimators': 72, 'max_features': 3}\n",
      "50828.9222 {'n_estimators': 21, 'max_features': 5}\n",
      "49205.8400836 {'n_estimators': 122, 'max_features': 7}\n",
      "50450.3206934 {'n_estimators': 75, 'max_features': 3}\n",
      "50487.2298794 {'n_estimators': 88, 'max_features': 3}\n",
      "49492.7931153 {'n_estimators': 100, 'max_features': 5}\n",
      "50320.355334 {'n_estimators': 150, 'max_features': 3}\n",
      "64960.9778768 {'n_estimators': 2, 'max_features': 5}\n"
     ]
    }
   ],
   "source": [
    "cv = grid_search.cv_results_\n",
    "for mean_score, params in zip(cv[\"mean_test_score\"], cv[\"params\"]):\n",
    "    print(np.sqrt(-mean_score), params)"
   ]
  },
  {
   "cell_type": "markdown",
   "metadata": {},
   "source": [
    "### Inspeccionar la importancia de los features"
   ]
  },
  {
   "cell_type": "code",
   "execution_count": 48,
   "metadata": {},
   "outputs": [
    {
     "data": {
      "text/plain": [
       "[(0.35738452872586113, 'median_income'),\n",
       " (0.15020733899777669, 'INLAND'),\n",
       " (0.11101973018843508, 'pop_per_hold'),\n",
       " (0.072438106771196442, 'longitude'),\n",
       " (0.070637751814209296, 'bedrooms_per_room'),\n",
       " (0.066334953324289403, 'latitude'),\n",
       " (0.047923884871605683, 'rooms_per_hhold'),\n",
       " (0.042394990316477921, 'housing_median_age'),\n",
       " (0.016489524332660405, 'total_rooms'),\n",
       " (0.015928719496315455, 'total_bedrooms'),\n",
       " (0.015715319099229488, 'population'),\n",
       " (0.014886219474101148, 'households'),\n",
       " (0.011142833729596461, '<1H OCEAN'),\n",
       " (0.0048294694706388797, 'NEAR OCEAN'),\n",
       " (0.0026070496236398084, 'NEAR BAY'),\n",
       " (5.9579763966874252e-05, 'ISLAND')]"
      ]
     },
     "execution_count": 48,
     "metadata": {},
     "output_type": "execute_result"
    }
   ],
   "source": [
    "extra_attr = [\"rooms_per_hhold\", \"pop_per_hold\",\"bedrooms_per_room\"]\n",
    "cat_one_hot_attr = list(encoder.classes_)\n",
    "attrs = num_attribs + extra_attr + cat_one_hot_attr\n",
    "\n",
    "feature_importances = grid_search.best_estimator_.feature_importances_\n",
    "feature_importances= sorted(zip(feature_importances, attrs), reverse=True)"
   ]
  },
  {
   "cell_type": "markdown",
   "metadata": {},
   "source": [
    "### Evaluar el modelo final en el test set"
   ]
  },
  {
   "cell_type": "code",
   "execution_count": 52,
   "metadata": {},
   "outputs": [
    {
     "name": "stdout",
     "output_type": "stream",
     "text": [
      "47028.197084\n"
     ]
    }
   ],
   "source": [
    "from sklearn.metrics import mean_squared_error\n",
    "\n",
    "final_model = grid_search.best_estimator_\n",
    "\n",
    "\n",
    "X_test = strat_test_set.drop(\"median_house_value\", axis=1)\n",
    "Y_test = strat_test_set[\"median_house_value\"].copy()\n",
    "\n",
    "X_test_prepared = full_pipeline.transform(X_test)\n",
    "final_predictions = final_model.predict(X_test_prepared)\n",
    "\n",
    "final_mse = mean_squared_error(Y_test, final_predictions)\n",
    "final_rmse = np.sqrt(final_mse)\n",
    "print(final_rmse)\n"
   ]
  },
  {
   "cell_type": "markdown",
   "metadata": {},
   "source": [
    "### SVM Regressor"
   ]
  },
  {
   "cell_type": "code",
   "execution_count": 57,
   "metadata": {},
   "outputs": [
    {
     "name": "stdout",
     "output_type": "stream",
     "text": [
      "Fitting 5 folds for each of 50 candidates, totalling 250 fits\n",
      "[CV] gamma=3.01012143092, C=629.782329591, kernel=linear .............\n",
      "[CV] gamma=3.01012143092, C=629.782329591, kernel=linear .............\n",
      "[CV] gamma=3.01012143092, C=629.782329591, kernel=linear .............\n",
      "[CV] gamma=3.01012143092, C=629.782329591, kernel=linear .............\n",
      "[CV]  gamma=3.01012143092, C=629.782329591, kernel=linear, total=  19.5s\n",
      "[CV] gamma=3.01012143092, C=629.782329591, kernel=linear .............\n",
      "[CV]  gamma=3.01012143092, C=629.782329591, kernel=linear, total=  20.1s\n",
      "[CV] gamma=0.908446969632, C=26290.2064643, kernel=rbf ...............\n",
      "[CV]  gamma=3.01012143092, C=629.782329591, kernel=linear, total=  20.4s\n",
      "[CV] gamma=0.908446969632, C=26290.2064643, kernel=rbf ...............\n",
      "[CV]  gamma=3.01012143092, C=629.782329591, kernel=linear, total=  20.6s\n",
      "[CV] gamma=0.908446969632, C=26290.2064643, kernel=rbf ...............\n",
      "[CV]  gamma=3.01012143092, C=629.782329591, kernel=linear, total=  19.7s\n",
      "[CV] gamma=0.908446969632, C=26290.2064643, kernel=rbf ...............\n",
      "[CV]  gamma=0.908446969632, C=26290.2064643, kernel=rbf, total=  36.0s\n",
      "[CV] gamma=0.908446969632, C=26290.2064643, kernel=rbf ...............\n",
      "[CV]  gamma=0.908446969632, C=26290.2064643, kernel=rbf, total=  37.1s\n",
      "[CV] gamma=0.0598387686087, C=84.1410790058, kernel=rbf ..............\n",
      "[CV]  gamma=0.908446969632, C=26290.2064643, kernel=rbf, total=  37.7s\n",
      "[CV] gamma=0.0598387686087, C=84.1410790058, kernel=rbf ..............\n",
      "[CV]  gamma=0.908446969632, C=26290.2064643, kernel=rbf, total=  35.8s\n",
      "[CV] gamma=0.0598387686087, C=84.1410790058, kernel=rbf ..............\n",
      "[CV]  gamma=0.0598387686087, C=84.1410790058, kernel=rbf, total=  32.7s\n",
      "[CV] gamma=0.0598387686087, C=84.1410790058, kernel=rbf ..............\n",
      "[CV]  gamma=0.0598387686087, C=84.1410790058, kernel=rbf, total=  33.2s\n",
      "[CV] gamma=0.0598387686087, C=84.1410790058, kernel=rbf ..............\n",
      "[CV]  gamma=0.908446969632, C=26290.2064643, kernel=rbf, total=  38.1s\n",
      "[CV] gamma=0.154161967467, C=432.378848131, kernel=linear ............\n",
      "[CV]  gamma=0.0598387686087, C=84.1410790058, kernel=rbf, total=  38.9s\n",
      "[CV] gamma=0.154161967467, C=432.378848131, kernel=linear ............\n",
      "[CV]  gamma=0.154161967467, C=432.378848131, kernel=linear, total=  24.1s\n",
      "[CV] gamma=0.154161967467, C=432.378848131, kernel=linear ............\n",
      "[CV]  gamma=0.0598387686087, C=84.1410790058, kernel=rbf, total=  46.4s\n",
      "[CV] gamma=0.154161967467, C=432.378848131, kernel=linear ............\n",
      "[CV]  gamma=0.154161967467, C=432.378848131, kernel=linear, total=  25.4s\n",
      "[CV] gamma=0.154161967467, C=432.378848131, kernel=linear ............\n",
      "[CV]  gamma=0.0598387686087, C=84.1410790058, kernel=rbf, total=  46.7s\n",
      "[CV] gamma=3.50355747516, C=24.1750829461, kernel=rbf ................\n",
      "[CV]  gamma=0.154161967467, C=432.378848131, kernel=linear, total=  27.2s\n",
      "[CV] gamma=3.50355747516, C=24.1750829461, kernel=rbf ................\n",
      "[CV]  gamma=0.154161967467, C=432.378848131, kernel=linear, total=  25.0s\n",
      "[CV] gamma=3.50355747516, C=24.1750829461, kernel=rbf ................\n",
      "[CV]  gamma=0.154161967467, C=432.378848131, kernel=linear, total=  25.2s\n",
      "[CV] gamma=3.50355747516, C=24.1750829461, kernel=rbf ................\n",
      "[CV] . gamma=3.50355747516, C=24.1750829461, kernel=rbf, total=  50.9s\n",
      "[CV] gamma=3.50355747516, C=24.1750829461, kernel=rbf ................\n",
      "[CV] . gamma=3.50355747516, C=24.1750829461, kernel=rbf, total=  54.7s\n",
      "[CV] gamma=0.000779069236658, C=113564.039406, kernel=rbf ............\n",
      "[CV] . gamma=3.50355747516, C=24.1750829461, kernel=rbf, total=  54.2s\n",
      "[CV] gamma=0.000779069236658, C=113564.039406, kernel=rbf ............\n",
      "[CV] . gamma=3.50355747516, C=24.1750829461, kernel=rbf, total=  53.3s\n",
      "[CV] gamma=0.000779069236658, C=113564.039406, kernel=rbf ............\n",
      "[CV] . gamma=3.50355747516, C=24.1750829461, kernel=rbf, total=  52.8s\n",
      "[CV] gamma=0.000779069236658, C=113564.039406, kernel=rbf ............\n",
      "[CV]  gamma=0.000779069236658, C=113564.039406, kernel=rbf, total=  48.2s\n",
      "[CV] gamma=0.000779069236658, C=113564.039406, kernel=rbf ............\n",
      "[CV]  gamma=0.000779069236658, C=113564.039406, kernel=rbf, total=  46.8s\n",
      "[CV] gamma=0.36275372946, C=108.304882388, kernel=rbf ................\n",
      "[CV]  gamma=0.000779069236658, C=113564.039406, kernel=rbf, total=  46.9s\n",
      "[CV] gamma=0.36275372946, C=108.304882388, kernel=rbf ................\n",
      "[CV]  gamma=0.000779069236658, C=113564.039406, kernel=rbf, total=  47.7s\n",
      "[CV] gamma=0.36275372946, C=108.304882388, kernel=rbf ................\n",
      "[CV]  gamma=0.000779069236658, C=113564.039406, kernel=rbf, total=  47.8s\n",
      "[CV] gamma=0.36275372946, C=108.304882388, kernel=rbf ................\n",
      "[CV] . gamma=0.36275372946, C=108.304882388, kernel=rbf, total=  47.0s\n",
      "[CV] gamma=0.36275372946, C=108.304882388, kernel=rbf ................\n",
      "[CV] . gamma=0.36275372946, C=108.304882388, kernel=rbf, total=  46.3s\n",
      "[CV] gamma=0.0233325235983, C=21.3449536726, kernel=linear ...........\n",
      "[CV] . gamma=0.36275372946, C=108.304882388, kernel=rbf, total=  46.1s\n",
      "[CV] gamma=0.0233325235983, C=21.3449536726, kernel=linear ...........\n"
     ]
    },
    {
     "name": "stderr",
     "output_type": "stream",
     "text": [
      "[Parallel(n_jobs=4)]: Done  33 tasks      | elapsed:  8.5min\n"
     ]
    },
    {
     "name": "stdout",
     "output_type": "stream",
     "text": [
      "[CV] . gamma=0.36275372946, C=108.304882388, kernel=rbf, total=  47.5s\n",
      "[CV] gamma=0.0233325235983, C=21.3449536726, kernel=linear ...........\n",
      "[CV]  gamma=0.0233325235983, C=21.3449536726, kernel=linear, total=  29.8s\n",
      "[CV] gamma=0.0233325235983, C=21.3449536726, kernel=linear ...........\n",
      "[CV] . gamma=0.36275372946, C=108.304882388, kernel=rbf, total=  46.4s\n",
      "[CV] gamma=0.0233325235983, C=21.3449536726, kernel=linear ...........\n",
      "[CV]  gamma=0.0233325235983, C=21.3449536726, kernel=linear, total=  27.4s\n",
      "[CV] gamma=0.150234528727, C=5603.27031743, kernel=rbf ...............\n",
      "[CV]  gamma=0.0233325235983, C=21.3449536726, kernel=linear, total=  30.3s\n",
      "[CV] gamma=0.150234528727, C=5603.27031743, kernel=rbf ...............\n",
      "[CV]  gamma=0.0233325235983, C=21.3449536726, kernel=linear, total=  30.8s\n",
      "[CV] gamma=0.150234528727, C=5603.27031743, kernel=rbf ...............\n",
      "[CV]  gamma=0.0233325235983, C=21.3449536726, kernel=linear, total=  30.3s\n",
      "[CV] gamma=0.150234528727, C=5603.27031743, kernel=rbf ...............\n",
      "[CV]  gamma=0.150234528727, C=5603.27031743, kernel=rbf, total=  43.8s\n",
      "[CV] gamma=0.150234528727, C=5603.27031743, kernel=rbf ...............\n",
      "[CV]  gamma=0.150234528727, C=5603.27031743, kernel=rbf, total=  46.4s\n",
      "[CV] gamma=0.26497040005, C=157055.109894, kernel=rbf ................\n",
      "[CV]  gamma=0.150234528727, C=5603.27031743, kernel=rbf, total=  45.3s\n",
      "[CV] gamma=0.26497040005, C=157055.109894, kernel=rbf ................\n",
      "[CV]  gamma=0.150234528727, C=5603.27031743, kernel=rbf, total=  44.3s\n",
      "[CV] gamma=0.26497040005, C=157055.109894, kernel=rbf ................\n",
      "[CV]  gamma=0.150234528727, C=5603.27031743, kernel=rbf, total=  44.3s\n",
      "[CV] gamma=0.26497040005, C=157055.109894, kernel=rbf ................\n",
      "[CV] . gamma=0.26497040005, C=157055.109894, kernel=rbf, total= 1.6min\n",
      "[CV] gamma=0.26497040005, C=157055.109894, kernel=rbf ................\n",
      "[CV] . gamma=0.26497040005, C=157055.109894, kernel=rbf, total= 1.7min\n",
      "[CV] gamma=0.222735862129, C=27652.4643587, kernel=linear ............\n",
      "[CV] . gamma=0.26497040005, C=157055.109894, kernel=rbf, total= 1.9min\n",
      "[CV] gamma=0.222735862129, C=27652.4643587, kernel=linear ............\n",
      "[CV] . gamma=0.26497040005, C=157055.109894, kernel=rbf, total= 1.6min\n",
      "[CV] gamma=0.222735862129, C=27652.4643587, kernel=linear ............\n",
      "[CV]  gamma=0.222735862129, C=27652.4643587, kernel=linear, total=  58.0s\n",
      "[CV] gamma=0.222735862129, C=27652.4643587, kernel=linear ............\n",
      "[CV]  gamma=0.222735862129, C=27652.4643587, kernel=linear, total= 1.0min\n",
      "[CV] gamma=0.222735862129, C=27652.4643587, kernel=linear ............\n",
      "[CV] . gamma=0.26497040005, C=157055.109894, kernel=rbf, total= 1.9min\n",
      "[CV] gamma=0.628789100541, C=171377.395704, kernel=linear ............\n",
      "[CV]  gamma=0.222735862129, C=27652.4643587, kernel=linear, total= 1.1min\n",
      "[CV] gamma=0.628789100541, C=171377.395704, kernel=linear ............\n",
      "[CV]  gamma=0.222735862129, C=27652.4643587, kernel=linear, total=  56.8s\n",
      "[CV] gamma=0.628789100541, C=171377.395704, kernel=linear ............\n",
      "[CV]  gamma=0.222735862129, C=27652.4643587, kernel=linear, total=  53.5s\n",
      "[CV] gamma=0.628789100541, C=171377.395704, kernel=linear ............\n",
      "[CV]  gamma=0.628789100541, C=171377.395704, kernel=linear, total= 3.1min\n",
      "[CV] gamma=0.628789100541, C=171377.395704, kernel=linear ............\n",
      "[CV]  gamma=0.628789100541, C=171377.395704, kernel=linear, total= 3.8min\n",
      "[CV] gamma=0.186961251977, C=5385.29382017, kernel=linear ............\n",
      "[CV]  gamma=0.628789100541, C=171377.395704, kernel=linear, total= 4.0min\n",
      "[CV] gamma=0.186961251977, C=5385.29382017, kernel=linear ............\n",
      "[CV]  gamma=0.628789100541, C=171377.395704, kernel=linear, total= 3.3min\n",
      "[CV] gamma=0.186961251977, C=5385.29382017, kernel=linear ............\n",
      "[CV]  gamma=0.186961251977, C=5385.29382017, kernel=linear, total=  33.6s\n",
      "[CV] gamma=0.186961251977, C=5385.29382017, kernel=linear ............\n",
      "[CV]  gamma=0.186961251977, C=5385.29382017, kernel=linear, total=  36.8s\n",
      "[CV] gamma=0.186961251977, C=5385.29382017, kernel=linear ............\n",
      "[CV]  gamma=0.186961251977, C=5385.29382017, kernel=linear, total=  36.2s\n",
      "[CV] gamma=2.85079687894, C=22.5990321662, kernel=rbf ................\n",
      "[CV]  gamma=0.186961251977, C=5385.29382017, kernel=linear, total=  34.5s\n",
      "[CV] gamma=2.85079687894, C=22.5990321662, kernel=rbf ................\n",
      "[CV]  gamma=0.186961251977, C=5385.29382017, kernel=linear, total=  37.5s\n",
      "[CV] gamma=2.85079687894, C=22.5990321662, kernel=rbf ................\n",
      "[CV]  gamma=0.628789100541, C=171377.395704, kernel=linear, total= 2.8min\n",
      "[CV] gamma=2.85079687894, C=22.5990321662, kernel=rbf ................\n",
      "[CV] . gamma=2.85079687894, C=22.5990321662, kernel=rbf, total=  49.8s\n",
      "[CV] gamma=2.85079687894, C=22.5990321662, kernel=rbf ................\n",
      "[CV] . gamma=2.85079687894, C=22.5990321662, kernel=rbf, total=  52.8s\n",
      "[CV] gamma=0.363287859969, C=34246.7519463, kernel=linear ............\n",
      "[CV] . gamma=2.85079687894, C=22.5990321662, kernel=rbf, total=  51.3s\n",
      "[CV] gamma=0.363287859969, C=34246.7519463, kernel=linear ............\n",
      "[CV] . gamma=2.85079687894, C=22.5990321662, kernel=rbf, total=  48.6s\n",
      "[CV] gamma=0.363287859969, C=34246.7519463, kernel=linear ............\n",
      "[CV] . gamma=2.85079687894, C=22.5990321662, kernel=rbf, total=  47.6s\n",
      "[CV] gamma=0.363287859969, C=34246.7519463, kernel=linear ............\n",
      "[CV]  gamma=0.363287859969, C=34246.7519463, kernel=linear, total= 1.1min\n",
      "[CV] gamma=0.363287859969, C=34246.7519463, kernel=linear ............\n",
      "[CV]  gamma=0.363287859969, C=34246.7519463, kernel=linear, total= 1.1min\n",
      "[CV] gamma=0.275787054226, C=167.727895608, kernel=rbf ...............\n",
      "[CV]  gamma=0.363287859969, C=34246.7519463, kernel=linear, total= 1.1min\n",
      "[CV] gamma=0.275787054226, C=167.727895608, kernel=rbf ...............\n",
      "[CV]  gamma=0.363287859969, C=34246.7519463, kernel=linear, total= 1.1min\n",
      "[CV] gamma=0.275787054226, C=167.727895608, kernel=rbf ...............\n",
      "[CV]  gamma=0.363287859969, C=34246.7519463, kernel=linear, total= 1.1min\n",
      "[CV] gamma=0.275787054226, C=167.727895608, kernel=rbf ...............\n",
      "[CV]  gamma=0.275787054226, C=167.727895608, kernel=rbf, total=  47.4s\n",
      "[CV] gamma=0.275787054226, C=167.727895608, kernel=rbf ...............\n",
      "[CV]  gamma=0.275787054226, C=167.727895608, kernel=rbf, total=  42.8s\n",
      "[CV] gamma=0.683547228134, C=61.543605425, kernel=linear .............\n",
      "[CV]  gamma=0.275787054226, C=167.727895608, kernel=rbf, total=  42.8s\n",
      "[CV] gamma=0.683547228134, C=61.543605425, kernel=linear .............\n",
      "[CV]  gamma=0.275787054226, C=167.727895608, kernel=rbf, total=  44.9s\n",
      "[CV] gamma=0.683547228134, C=61.543605425, kernel=linear .............\n",
      "[CV]  gamma=0.683547228134, C=61.543605425, kernel=linear, total=  30.7s\n",
      "[CV] gamma=0.683547228134, C=61.543605425, kernel=linear .............\n",
      "[CV]  gamma=0.275787054226, C=167.727895608, kernel=rbf, total=  46.5s\n",
      "[CV] gamma=0.683547228134, C=61.543605425, kernel=linear .............\n",
      "[CV]  gamma=0.683547228134, C=61.543605425, kernel=linear, total=  31.9s\n",
      "[CV] gamma=0.496036536049, C=98.7389738992, kernel=rbf ...............\n",
      "[CV]  gamma=0.683547228134, C=61.543605425, kernel=linear, total=  31.2s\n",
      "[CV] gamma=0.496036536049, C=98.7389738992, kernel=rbf ...............\n",
      "[CV]  gamma=0.683547228134, C=61.543605425, kernel=linear, total=  29.7s\n",
      "[CV] gamma=0.496036536049, C=98.7389738992, kernel=rbf ...............\n",
      "[CV]  gamma=0.683547228134, C=61.543605425, kernel=linear, total=  29.9s\n",
      "[CV] gamma=0.496036536049, C=98.7389738992, kernel=rbf ...............\n",
      "[CV]  gamma=0.496036536049, C=98.7389738992, kernel=rbf, total=  54.3s\n",
      "[CV] gamma=0.496036536049, C=98.7389738992, kernel=rbf ...............\n",
      "[CV]  gamma=0.496036536049, C=98.7389738992, kernel=rbf, total=  54.9s\n",
      "[CV] gamma=0.373546581658, C=8935.50563595, kernel=rbf ...............\n",
      "[CV]  gamma=0.496036536049, C=98.7389738992, kernel=rbf, total=  55.4s\n",
      "[CV] gamma=0.373546581658, C=8935.50563595, kernel=rbf ...............\n",
      "[CV]  gamma=0.496036536049, C=98.7389738992, kernel=rbf, total=  52.7s\n",
      "[CV] gamma=0.373546581658, C=8935.50563595, kernel=rbf ...............\n",
      "[CV]  gamma=0.496036536049, C=98.7389738992, kernel=rbf, total=  47.6s\n",
      "[CV] gamma=0.373546581658, C=8935.50563595, kernel=rbf ...............\n",
      "[CV]  gamma=0.373546581658, C=8935.50563595, kernel=rbf, total=  43.7s\n"
     ]
    },
    {
     "name": "stdout",
     "output_type": "stream",
     "text": [
      "[CV] gamma=0.373546581658, C=8935.50563595, kernel=rbf ...............\n",
      "[CV]  gamma=0.373546581658, C=8935.50563595, kernel=rbf, total=  43.8s\n",
      "[CV] gamma=0.838636245625, C=135.767758248, kernel=linear ............\n",
      "[CV]  gamma=0.373546581658, C=8935.50563595, kernel=rbf, total=  45.5s\n",
      "[CV] gamma=0.838636245625, C=135.767758248, kernel=linear ............\n",
      "[CV]  gamma=0.838636245625, C=135.767758248, kernel=linear, total=  31.6s\n",
      "[CV] gamma=0.838636245625, C=135.767758248, kernel=linear ............\n",
      "[CV]  gamma=0.373546581658, C=8935.50563595, kernel=rbf, total=  45.7s\n",
      "[CV] gamma=0.838636245625, C=135.767758248, kernel=linear ............\n",
      "[CV]  gamma=0.838636245625, C=135.767758248, kernel=linear, total=  35.0s\n",
      "[CV] gamma=0.838636245625, C=135.767758248, kernel=linear ............\n",
      "[CV]  gamma=0.373546581658, C=8935.50563595, kernel=rbf, total= 1.0min\n",
      "[CV] gamma=1.49224537714, C=151136.202825, kernel=rbf ................\n",
      "[CV]  gamma=0.838636245625, C=135.767758248, kernel=linear, total=  30.7s\n",
      "[CV] gamma=1.49224537714, C=151136.202825, kernel=rbf ................\n",
      "[CV]  gamma=0.838636245625, C=135.767758248, kernel=linear, total=  31.2s\n",
      "[CV] gamma=1.49224537714, C=151136.202825, kernel=rbf ................\n",
      "[CV]  gamma=0.838636245625, C=135.767758248, kernel=linear, total=  29.6s\n",
      "[CV] gamma=1.49224537714, C=151136.202825, kernel=rbf ................\n",
      "[CV] . gamma=1.49224537714, C=151136.202825, kernel=rbf, total= 7.8min\n",
      "[CV] gamma=1.49224537714, C=151136.202825, kernel=rbf ................\n",
      "[CV] . gamma=1.49224537714, C=151136.202825, kernel=rbf, total= 8.4min\n",
      "[CV] gamma=2.61263365142, C=761.43167585, kernel=linear ..............\n",
      "[CV]  gamma=2.61263365142, C=761.43167585, kernel=linear, total=  29.2s\n",
      "[CV] gamma=2.61263365142, C=761.43167585, kernel=linear ..............\n",
      "[CV]  gamma=2.61263365142, C=761.43167585, kernel=linear, total=  30.9s\n",
      "[CV] gamma=2.61263365142, C=761.43167585, kernel=linear ..............\n",
      "[CV] . gamma=1.49224537714, C=151136.202825, kernel=rbf, total= 9.8min\n",
      "[CV] gamma=2.61263365142, C=761.43167585, kernel=linear ..............\n",
      "[CV]  gamma=2.61263365142, C=761.43167585, kernel=linear, total=  27.8s\n",
      "[CV] gamma=2.61263365142, C=761.43167585, kernel=linear ..............\n",
      "[CV]  gamma=2.61263365142, C=761.43167585, kernel=linear, total=  28.3s\n",
      "[CV] gamma=0.0926554589531, C=97392.8188304, kernel=linear ...........\n",
      "[CV] . gamma=1.49224537714, C=151136.202825, kernel=rbf, total=11.2min\n",
      "[CV] gamma=0.0926554589531, C=97392.8188304, kernel=linear ...........\n",
      "[CV]  gamma=2.61263365142, C=761.43167585, kernel=linear, total=  29.0s\n",
      "[CV] gamma=0.0926554589531, C=97392.8188304, kernel=linear ...........\n",
      "[CV]  gamma=0.0926554589531, C=97392.8188304, kernel=linear, total= 2.2min\n",
      "[CV] gamma=0.0926554589531, C=97392.8188304, kernel=linear ...........\n",
      "[CV]  gamma=0.0926554589531, C=97392.8188304, kernel=linear, total= 2.1min\n",
      "[CV] gamma=0.0926554589531, C=97392.8188304, kernel=linear ...........\n",
      "[CV]  gamma=0.0926554589531, C=97392.8188304, kernel=linear, total= 3.5min\n",
      "[CV] gamma=3.24861427024, C=2423.07599849, kernel=linear .............\n",
      "[CV]  gamma=0.0926554589531, C=97392.8188304, kernel=linear, total= 1.7min\n",
      "[CV] gamma=3.24861427024, C=2423.07599849, kernel=linear .............\n",
      "[CV]  gamma=0.0926554589531, C=97392.8188304, kernel=linear, total= 2.0min\n",
      "[CV] gamma=3.24861427024, C=2423.07599849, kernel=linear .............\n",
      "[CV]  gamma=3.24861427024, C=2423.07599849, kernel=linear, total=  32.7s\n",
      "[CV] gamma=3.24861427024, C=2423.07599849, kernel=linear .............\n",
      "[CV]  gamma=3.24861427024, C=2423.07599849, kernel=linear, total=  27.9s\n",
      "[CV] gamma=3.24861427024, C=2423.07599849, kernel=linear .............\n",
      "[CV]  gamma=3.24861427024, C=2423.07599849, kernel=linear, total=  32.0s\n",
      "[CV] gamma=0.316560443209, C=717.363299726, kernel=linear ............\n",
      "[CV]  gamma=3.24861427024, C=2423.07599849, kernel=linear, total=  31.1s\n",
      "[CV] gamma=0.316560443209, C=717.363299726, kernel=linear ............\n",
      "[CV]  gamma=0.316560443209, C=717.363299726, kernel=linear, total=  26.7s\n",
      "[CV] gamma=0.316560443209, C=717.363299726, kernel=linear ............\n",
      "[CV]  gamma=3.24861427024, C=2423.07599849, kernel=linear, total=  27.5s\n",
      "[CV] gamma=0.316560443209, C=717.363299726, kernel=linear ............\n",
      "[CV]  gamma=0.316560443209, C=717.363299726, kernel=linear, total=  29.2s\n",
      "[CV] gamma=0.316560443209, C=717.363299726, kernel=linear ............\n",
      "[CV]  gamma=0.316560443209, C=717.363299726, kernel=linear, total=  37.7s\n",
      "[CV] gamma=3.35972844566, C=4446.66752118, kernel=rbf ................\n",
      "[CV]  gamma=0.316560443209, C=717.363299726, kernel=linear, total=  35.5s\n",
      "[CV] gamma=3.35972844566, C=4446.66752118, kernel=rbf ................\n",
      "[CV] . gamma=1.49224537714, C=151136.202825, kernel=rbf, total= 9.1min\n",
      "[CV] gamma=3.35972844566, C=4446.66752118, kernel=rbf ................\n",
      "[CV]  gamma=0.316560443209, C=717.363299726, kernel=linear, total=  31.2s\n",
      "[CV] gamma=3.35972844566, C=4446.66752118, kernel=rbf ................\n",
      "[CV] . gamma=3.35972844566, C=4446.66752118, kernel=rbf, total=  50.4s\n",
      "[CV] gamma=3.35972844566, C=4446.66752118, kernel=rbf ................\n",
      "[CV] . gamma=3.35972844566, C=4446.66752118, kernel=rbf, total=  50.5s\n",
      "[CV] gamma=0.151898147821, C=2963.56412121, kernel=linear ............\n",
      "[CV] . gamma=3.35972844566, C=4446.66752118, kernel=rbf, total=  49.9s\n",
      "[CV] gamma=0.151898147821, C=2963.56412121, kernel=linear ............\n",
      "[CV] . gamma=3.35972844566, C=4446.66752118, kernel=rbf, total=  48.2s\n",
      "[CV] gamma=0.151898147821, C=2963.56412121, kernel=linear ............\n",
      "[CV]  gamma=0.151898147821, C=2963.56412121, kernel=linear, total=  38.6s\n",
      "[CV] gamma=0.151898147821, C=2963.56412121, kernel=linear ............\n",
      "[CV]  gamma=0.151898147821, C=2963.56412121, kernel=linear, total=  45.0s\n",
      "[CV] gamma=0.151898147821, C=2963.56412121, kernel=linear ............\n",
      "[CV]  gamma=0.151898147821, C=2963.56412121, kernel=linear, total=  47.1s\n",
      "[CV] gamma=0.0157599448359, C=91.6426738169, kernel=linear ...........\n",
      "[CV] . gamma=3.35972844566, C=4446.66752118, kernel=rbf, total= 1.1min\n",
      "[CV] gamma=0.0157599448359, C=91.6426738169, kernel=linear ...........\n",
      "[CV]  gamma=0.151898147821, C=2963.56412121, kernel=linear, total=  41.6s\n",
      "[CV] gamma=0.0157599448359, C=91.6426738169, kernel=linear ...........\n",
      "[CV]  gamma=0.151898147821, C=2963.56412121, kernel=linear, total=  34.6s\n",
      "[CV] gamma=0.0157599448359, C=91.6426738169, kernel=linear ...........\n",
      "[CV]  gamma=0.0157599448359, C=91.6426738169, kernel=linear, total=  25.1s\n",
      "[CV] gamma=0.0157599448359, C=91.6426738169, kernel=linear ...........\n",
      "[CV]  gamma=0.0157599448359, C=91.6426738169, kernel=linear, total=  31.2s\n",
      "[CV] gamma=0.221539440506, C=24547.6019757, kernel=rbf ...............\n",
      "[CV]  gamma=0.0157599448359, C=91.6426738169, kernel=linear, total=  33.0s\n",
      "[CV] gamma=0.221539440506, C=24547.6019757, kernel=rbf ...............\n",
      "[CV]  gamma=0.0157599448359, C=91.6426738169, kernel=linear, total=  31.1s\n",
      "[CV] gamma=0.221539440506, C=24547.6019757, kernel=rbf ...............\n",
      "[CV]  gamma=0.0157599448359, C=91.6426738169, kernel=linear, total=  25.3s\n",
      "[CV] gamma=0.221539440506, C=24547.6019757, kernel=rbf ...............\n",
      "[CV]  gamma=0.221539440506, C=24547.6019757, kernel=rbf, total=  46.7s\n",
      "[CV] gamma=0.221539440506, C=24547.6019757, kernel=rbf ...............\n",
      "[CV]  gamma=0.221539440506, C=24547.6019757, kernel=rbf, total=  49.1s\n",
      "[CV] gamma=0.221697602314, C=22.7692794106, kernel=rbf ...............\n",
      "[CV]  gamma=0.221539440506, C=24547.6019757, kernel=rbf, total=  42.0s\n",
      "[CV] gamma=0.221697602314, C=22.7692794106, kernel=rbf ...............\n",
      "[CV]  gamma=0.221539440506, C=24547.6019757, kernel=rbf, total=  40.6s\n",
      "[CV] gamma=0.221697602314, C=22.7692794106, kernel=rbf ...............\n",
      "[CV]  gamma=0.221539440506, C=24547.6019757, kernel=rbf, total=  42.0s\n",
      "[CV] gamma=0.221697602314, C=22.7692794106, kernel=rbf ...............\n",
      "[CV]  gamma=0.221697602314, C=22.7692794106, kernel=rbf, total=  42.5s\n",
      "[CV] gamma=0.221697602314, C=22.7692794106, kernel=rbf ...............\n",
      "[CV]  gamma=0.221697602314, C=22.7692794106, kernel=rbf, total=  40.4s\n",
      "[CV] gamma=1.47521452604, C=16483.8505298, kernel=linear .............\n",
      "[CV]  gamma=0.221697602314, C=22.7692794106, kernel=rbf, total=  42.1s\n"
     ]
    },
    {
     "name": "stdout",
     "output_type": "stream",
     "text": [
      "[CV] gamma=1.47521452604, C=16483.8505298, kernel=linear .............\n",
      "[CV]  gamma=0.221697602314, C=22.7692794106, kernel=rbf, total=  42.2s\n",
      "[CV] gamma=1.47521452604, C=16483.8505298, kernel=linear .............\n",
      "[CV]  gamma=1.47521452604, C=16483.8505298, kernel=linear, total=  37.7s\n",
      "[CV] gamma=1.47521452604, C=16483.8505298, kernel=linear .............\n",
      "[CV]  gamma=1.47521452604, C=16483.8505298, kernel=linear, total=  41.2s\n",
      "[CV] gamma=1.47521452604, C=16483.8505298, kernel=linear .............\n",
      "[CV]  gamma=0.221697602314, C=22.7692794106, kernel=rbf, total=  41.9s\n",
      "[CV] gamma=1.05290408458, C=101445.668813, kernel=rbf ................\n",
      "[CV]  gamma=1.47521452604, C=16483.8505298, kernel=linear, total=  48.0s\n",
      "[CV] gamma=1.05290408458, C=101445.668813, kernel=rbf ................\n",
      "[CV]  gamma=1.47521452604, C=16483.8505298, kernel=linear, total=  42.5s\n",
      "[CV] gamma=1.05290408458, C=101445.668813, kernel=rbf ................\n"
     ]
    },
    {
     "name": "stderr",
     "output_type": "stream",
     "text": [
      "[Parallel(n_jobs=4)]: Done 154 tasks      | elapsed: 55.7min\n"
     ]
    },
    {
     "name": "stdout",
     "output_type": "stream",
     "text": [
      "[CV]  gamma=1.47521452604, C=16483.8505298, kernel=linear, total=  49.9s\n",
      "[CV] gamma=1.05290408458, C=101445.668813, kernel=rbf ................\n",
      "[CV] . gamma=1.05290408458, C=101445.668813, kernel=rbf, total= 3.2min\n",
      "[CV] gamma=1.05290408458, C=101445.668813, kernel=rbf ................\n",
      "[CV] . gamma=1.05290408458, C=101445.668813, kernel=rbf, total= 2.9min\n",
      "[CV] gamma=0.976301191712, C=56681.8085903, kernel=rbf ...............\n",
      "[CV] . gamma=1.05290408458, C=101445.668813, kernel=rbf, total= 3.8min\n",
      "[CV] gamma=0.976301191712, C=56681.8085903, kernel=rbf ...............\n",
      "[CV] . gamma=1.05290408458, C=101445.668813, kernel=rbf, total= 4.0min\n",
      "[CV] gamma=0.976301191712, C=56681.8085903, kernel=rbf ...............\n",
      "[CV]  gamma=0.976301191712, C=56681.8085903, kernel=rbf, total= 1.2min\n",
      "[CV] gamma=0.976301191712, C=56681.8085903, kernel=rbf ...............\n",
      "[CV]  gamma=0.976301191712, C=56681.8085903, kernel=rbf, total= 1.3min\n",
      "[CV] gamma=0.976301191712, C=56681.8085903, kernel=rbf ...............\n",
      "[CV]  gamma=0.976301191712, C=56681.8085903, kernel=rbf, total= 1.3min\n",
      "[CV] gamma=0.463335116798, C=48.1582239093, kernel=rbf ...............\n",
      "[CV] . gamma=1.05290408458, C=101445.668813, kernel=rbf, total= 3.2min\n",
      "[CV] gamma=0.463335116798, C=48.1582239093, kernel=rbf ...............\n",
      "[CV]  gamma=0.976301191712, C=56681.8085903, kernel=rbf, total= 1.4min\n",
      "[CV] gamma=0.463335116798, C=48.1582239093, kernel=rbf ...............\n",
      "[CV]  gamma=0.463335116798, C=48.1582239093, kernel=rbf, total=  41.0s\n",
      "[CV] gamma=0.463335116798, C=48.1582239093, kernel=rbf ...............\n",
      "[CV]  gamma=0.463335116798, C=48.1582239093, kernel=rbf, total=  46.3s\n",
      "[CV] gamma=0.463335116798, C=48.1582239093, kernel=rbf ...............\n",
      "[CV]  gamma=0.976301191712, C=56681.8085903, kernel=rbf, total= 1.5min\n",
      "[CV] gamma=1.30787578396, C=399.726815571, kernel=rbf ................\n",
      "[CV]  gamma=0.463335116798, C=48.1582239093, kernel=rbf, total=  47.7s\n",
      "[CV] gamma=1.30787578396, C=399.726815571, kernel=rbf ................\n",
      "[CV]  gamma=0.463335116798, C=48.1582239093, kernel=rbf, total=  43.8s\n",
      "[CV] gamma=1.30787578396, C=399.726815571, kernel=rbf ................\n",
      "[CV]  gamma=0.463335116798, C=48.1582239093, kernel=rbf, total=  44.0s\n",
      "[CV] gamma=1.30787578396, C=399.726815571, kernel=rbf ................\n",
      "[CV] . gamma=1.30787578396, C=399.726815571, kernel=rbf, total=  39.9s\n",
      "[CV] gamma=1.30787578396, C=399.726815571, kernel=rbf ................\n",
      "[CV] . gamma=1.30787578396, C=399.726815571, kernel=rbf, total=  39.8s\n",
      "[CV] gamma=0.823810520491, C=251.140738863, kernel=linear ............\n",
      "[CV] . gamma=1.30787578396, C=399.726815571, kernel=rbf, total=  52.6s\n",
      "[CV] gamma=0.823810520491, C=251.140738863, kernel=linear ............\n",
      "[CV]  gamma=0.823810520491, C=251.140738863, kernel=linear, total=  32.9s\n",
      "[CV] gamma=0.823810520491, C=251.140738863, kernel=linear ............\n",
      "[CV] . gamma=1.30787578396, C=399.726815571, kernel=rbf, total=  56.4s\n",
      "[CV] gamma=0.823810520491, C=251.140738863, kernel=linear ............\n",
      "[CV] . gamma=1.30787578396, C=399.726815571, kernel=rbf, total= 1.1min\n",
      "[CV] gamma=0.823810520491, C=251.140738863, kernel=linear ............\n",
      "[CV]  gamma=0.823810520491, C=251.140738863, kernel=linear, total=  33.1s\n",
      "[CV] gamma=1.24912634432, C=60.1737364289, kernel=linear .............\n",
      "[CV]  gamma=0.823810520491, C=251.140738863, kernel=linear, total=  30.2s\n",
      "[CV] gamma=1.24912634432, C=60.1737364289, kernel=linear .............\n",
      "[CV]  gamma=0.823810520491, C=251.140738863, kernel=linear, total=  30.5s\n",
      "[CV] gamma=1.24912634432, C=60.1737364289, kernel=linear .............\n",
      "[CV]  gamma=0.823810520491, C=251.140738863, kernel=linear, total=  34.9s\n",
      "[CV] gamma=1.24912634432, C=60.1737364289, kernel=linear .............\n",
      "[CV]  gamma=1.24912634432, C=60.1737364289, kernel=linear, total=  33.3s\n",
      "[CV] gamma=1.24912634432, C=60.1737364289, kernel=linear .............\n",
      "[CV]  gamma=1.24912634432, C=60.1737364289, kernel=linear, total=  33.6s\n",
      "[CV] gamma=0.269167751462, C=15415.1615449, kernel=rbf ...............\n",
      "[CV]  gamma=1.24912634432, C=60.1737364289, kernel=linear, total=  33.3s\n",
      "[CV] gamma=0.269167751462, C=15415.1615449, kernel=rbf ...............\n",
      "[CV]  gamma=1.24912634432, C=60.1737364289, kernel=linear, total=  34.5s\n",
      "[CV] gamma=0.269167751462, C=15415.1615449, kernel=rbf ...............\n",
      "[CV]  gamma=1.24912634432, C=60.1737364289, kernel=linear, total=  28.9s\n",
      "[CV] gamma=0.269167751462, C=15415.1615449, kernel=rbf ...............\n",
      "[CV]  gamma=0.269167751462, C=15415.1615449, kernel=rbf, total=  49.5s\n",
      "[CV] gamma=0.269167751462, C=15415.1615449, kernel=rbf ...............\n",
      "[CV]  gamma=0.269167751462, C=15415.1615449, kernel=rbf, total=  46.1s\n",
      "[CV] gamma=0.739678838777, C=1888.914851, kernel=linear ..............\n",
      "[CV]  gamma=0.269167751462, C=15415.1615449, kernel=rbf, total=  46.0s\n",
      "[CV] gamma=0.739678838777, C=1888.914851, kernel=linear ..............\n",
      "[CV]  gamma=0.269167751462, C=15415.1615449, kernel=rbf, total=  43.3s\n",
      "[CV] gamma=0.739678838777, C=1888.914851, kernel=linear ..............\n",
      "[CV]  gamma=0.739678838777, C=1888.914851, kernel=linear, total=  26.1s\n",
      "[CV] gamma=0.739678838777, C=1888.914851, kernel=linear ..............\n",
      "[CV]  gamma=0.739678838777, C=1888.914851, kernel=linear, total=  27.9s\n",
      "[CV] gamma=0.739678838777, C=1888.914851, kernel=linear ..............\n",
      "[CV]  gamma=0.269167751462, C=15415.1615449, kernel=rbf, total=  39.9s\n",
      "[CV] gamma=0.578634378499, C=55.5383891123, kernel=linear ............\n",
      "[CV]  gamma=0.739678838777, C=1888.914851, kernel=linear, total=  26.3s\n",
      "[CV] gamma=0.578634378499, C=55.5383891123, kernel=linear ............\n",
      "[CV]  gamma=0.739678838777, C=1888.914851, kernel=linear, total=  29.4s\n",
      "[CV] gamma=0.578634378499, C=55.5383891123, kernel=linear ............\n",
      "[CV]  gamma=0.739678838777, C=1888.914851, kernel=linear, total=  26.5s\n",
      "[CV] gamma=0.578634378499, C=55.5383891123, kernel=linear ............\n",
      "[CV]  gamma=0.578634378499, C=55.5383891123, kernel=linear, total=  24.8s\n",
      "[CV] gamma=0.578634378499, C=55.5383891123, kernel=linear ............\n",
      "[CV]  gamma=0.578634378499, C=55.5383891123, kernel=linear, total=  25.6s\n",
      "[CV] gamma=1.01172955093, C=26.7144808239, kernel=rbf ................\n",
      "[CV]  gamma=0.578634378499, C=55.5383891123, kernel=linear, total=  33.6s\n",
      "[CV] gamma=1.01172955093, C=26.7144808239, kernel=rbf ................\n",
      "[CV]  gamma=0.578634378499, C=55.5383891123, kernel=linear, total=  26.4s\n",
      "[CV] gamma=1.01172955093, C=26.7144808239, kernel=rbf ................\n",
      "[CV]  gamma=0.578634378499, C=55.5383891123, kernel=linear, total=  26.5s\n",
      "[CV] gamma=1.01172955093, C=26.7144808239, kernel=rbf ................\n",
      "[CV] . gamma=1.01172955093, C=26.7144808239, kernel=rbf, total=  43.3s\n",
      "[CV] gamma=1.01172955093, C=26.7144808239, kernel=rbf ................\n",
      "[CV] . gamma=1.01172955093, C=26.7144808239, kernel=rbf, total=  49.6s\n",
      "[CV] gamma=1.18913702221, C=3582.05527805, kernel=linear .............\n",
      "[CV] . gamma=1.01172955093, C=26.7144808239, kernel=rbf, total=  55.5s\n",
      "[CV] gamma=1.18913702221, C=3582.05527805, kernel=linear .............\n",
      "[CV] . gamma=1.01172955093, C=26.7144808239, kernel=rbf, total=  55.9s\n",
      "[CV] gamma=1.18913702221, C=3582.05527805, kernel=linear .............\n",
      "[CV]  gamma=1.18913702221, C=3582.05527805, kernel=linear, total=  41.3s\n",
      "[CV] gamma=1.18913702221, C=3582.05527805, kernel=linear .............\n",
      "[CV] . gamma=1.01172955093, C=26.7144808239, kernel=rbf, total=  57.7s\n",
      "[CV] gamma=1.18913702221, C=3582.05527805, kernel=linear .............\n",
      "[CV]  gamma=1.18913702221, C=3582.05527805, kernel=linear, total=  41.5s\n",
      "[CV] gamma=0.528281974883, C=198.700478181, kernel=linear ............\n",
      "[CV]  gamma=1.18913702221, C=3582.05527805, kernel=linear, total=  41.2s\n",
      "[CV] gamma=0.528281974883, C=198.700478181, kernel=linear ............\n",
      "[CV]  gamma=1.18913702221, C=3582.05527805, kernel=linear, total=  37.4s\n",
      "[CV] gamma=0.528281974883, C=198.700478181, kernel=linear ............\n",
      "[CV]  gamma=1.18913702221, C=3582.05527805, kernel=linear, total=  39.2s\n",
      "[CV] gamma=0.528281974883, C=198.700478181, kernel=linear ............\n",
      "[CV]  gamma=0.528281974883, C=198.700478181, kernel=linear, total=  35.3s\n",
      "[CV] gamma=0.528281974883, C=198.700478181, kernel=linear ............\n",
      "[CV]  gamma=0.528281974883, C=198.700478181, kernel=linear, total=  35.9s\n"
     ]
    },
    {
     "name": "stdout",
     "output_type": "stream",
     "text": [
      "[CV] gamma=2.86213836765, C=129.800060414, kernel=linear .............\n",
      "[CV]  gamma=0.528281974883, C=198.700478181, kernel=linear, total=  36.0s\n",
      "[CV] gamma=2.86213836765, C=129.800060414, kernel=linear .............\n",
      "[CV]  gamma=0.528281974883, C=198.700478181, kernel=linear, total=  35.7s\n",
      "[CV] gamma=2.86213836765, C=129.800060414, kernel=linear .............\n",
      "[CV]  gamma=0.528281974883, C=198.700478181, kernel=linear, total=  34.8s\n",
      "[CV] gamma=2.86213836765, C=129.800060414, kernel=linear .............\n",
      "[CV]  gamma=2.86213836765, C=129.800060414, kernel=linear, total=  34.6s\n",
      "[CV] gamma=2.86213836765, C=129.800060414, kernel=linear .............\n",
      "[CV]  gamma=2.86213836765, C=129.800060414, kernel=linear, total=  33.5s\n",
      "[CV] gamma=0.1758083585, C=288.426929959, kernel=rbf .................\n",
      "[CV]  gamma=2.86213836765, C=129.800060414, kernel=linear, total=  33.9s\n",
      "[CV] gamma=0.1758083585, C=288.426929959, kernel=rbf .................\n",
      "[CV]  gamma=2.86213836765, C=129.800060414, kernel=linear, total=  32.5s\n",
      "[CV] gamma=0.1758083585, C=288.426929959, kernel=rbf .................\n",
      "[CV]  gamma=2.86213836765, C=129.800060414, kernel=linear, total=  30.7s\n",
      "[CV] gamma=0.1758083585, C=288.426929959, kernel=rbf .................\n",
      "[CV] .. gamma=0.1758083585, C=288.426929959, kernel=rbf, total=  45.7s\n",
      "[CV] gamma=0.1758083585, C=288.426929959, kernel=rbf .................\n",
      "[CV] .. gamma=0.1758083585, C=288.426929959, kernel=rbf, total=  47.7s\n",
      "[CV] gamma=0.350456725533, C=6287.03948943, kernel=linear ............\n",
      "[CV] .. gamma=0.1758083585, C=288.426929959, kernel=rbf, total=  46.4s\n",
      "[CV] gamma=0.350456725533, C=6287.03948943, kernel=linear ............\n",
      "[CV] .. gamma=0.1758083585, C=288.426929959, kernel=rbf, total=  48.7s\n",
      "[CV] gamma=0.350456725533, C=6287.03948943, kernel=linear ............\n",
      "[CV]  gamma=0.350456725533, C=6287.03948943, kernel=linear, total=  31.7s\n",
      "[CV] gamma=0.350456725533, C=6287.03948943, kernel=linear ............\n",
      "[CV]  gamma=0.350456725533, C=6287.03948943, kernel=linear, total=  31.8s\n",
      "[CV] gamma=0.350456725533, C=6287.03948943, kernel=linear ............\n",
      "[CV]  gamma=0.350456725533, C=6287.03948943, kernel=linear, total=  33.7s\n",
      "[CV] gamma=1.62796894074, C=61217.0442134, kernel=rbf ................\n",
      "[CV] .. gamma=0.1758083585, C=288.426929959, kernel=rbf, total=  40.7s\n",
      "[CV] gamma=1.62796894074, C=61217.0442134, kernel=rbf ................\n",
      "[CV]  gamma=0.350456725533, C=6287.03948943, kernel=linear, total=  39.8s\n",
      "[CV] gamma=1.62796894074, C=61217.0442134, kernel=rbf ................\n",
      "[CV]  gamma=0.350456725533, C=6287.03948943, kernel=linear, total=  40.1s\n",
      "[CV] gamma=1.62796894074, C=61217.0442134, kernel=rbf ................\n",
      "[CV] . gamma=1.62796894074, C=61217.0442134, kernel=rbf, total= 2.4min\n",
      "[CV] gamma=1.62796894074, C=61217.0442134, kernel=rbf ................\n",
      "[CV] . gamma=1.62796894074, C=61217.0442134, kernel=rbf, total= 2.7min\n",
      "[CV] gamma=2.14797959306, C=926.97876841, kernel=rbf .................\n",
      "[CV] . gamma=1.62796894074, C=61217.0442134, kernel=rbf, total= 2.5min\n",
      "[CV] gamma=2.14797959306, C=926.97876841, kernel=rbf .................\n",
      "[CV] . gamma=1.62796894074, C=61217.0442134, kernel=rbf, total= 2.5min\n",
      "[CV] gamma=2.14797959306, C=926.97876841, kernel=rbf .................\n",
      "[CV] .. gamma=2.14797959306, C=926.97876841, kernel=rbf, total=  41.7s\n",
      "[CV] gamma=2.14797959306, C=926.97876841, kernel=rbf .................\n",
      "[CV] .. gamma=2.14797959306, C=926.97876841, kernel=rbf, total=  41.0s\n",
      "[CV] gamma=2.14797959306, C=926.97876841, kernel=rbf .................\n",
      "[CV] .. gamma=2.14797959306, C=926.97876841, kernel=rbf, total=  40.7s\n",
      "[CV] gamma=2.26424264929, C=33946.1570649, kernel=linear .............\n",
      "[CV] .. gamma=2.14797959306, C=926.97876841, kernel=rbf, total=  44.2s\n",
      "[CV] gamma=2.26424264929, C=33946.1570649, kernel=linear .............\n",
      "[CV] . gamma=1.62796894074, C=61217.0442134, kernel=rbf, total= 2.5min\n",
      "[CV] gamma=2.26424264929, C=33946.1570649, kernel=linear .............\n",
      "[CV] .. gamma=2.14797959306, C=926.97876841, kernel=rbf, total=  53.0s\n",
      "[CV] gamma=2.26424264929, C=33946.1570649, kernel=linear .............\n",
      "[CV]  gamma=2.26424264929, C=33946.1570649, kernel=linear, total= 1.2min\n",
      "[CV] gamma=2.26424264929, C=33946.1570649, kernel=linear .............\n",
      "[CV]  gamma=2.26424264929, C=33946.1570649, kernel=linear, total= 1.1min\n",
      "[CV] gamma=0.31763590853, C=84789.8294774, kernel=linear .............\n",
      "[CV]  gamma=2.26424264929, C=33946.1570649, kernel=linear, total= 1.2min\n",
      "[CV] gamma=0.31763590853, C=84789.8294774, kernel=linear .............\n",
      "[CV]  gamma=2.26424264929, C=33946.1570649, kernel=linear, total= 1.2min\n",
      "[CV] gamma=0.31763590853, C=84789.8294774, kernel=linear .............\n",
      "[CV]  gamma=2.26424264929, C=33946.1570649, kernel=linear, total= 1.2min\n",
      "[CV] gamma=0.31763590853, C=84789.8294774, kernel=linear .............\n",
      "[CV]  gamma=0.31763590853, C=84789.8294774, kernel=linear, total= 2.1min\n",
      "[CV] gamma=0.31763590853, C=84789.8294774, kernel=linear .............\n",
      "[CV]  gamma=0.31763590853, C=84789.8294774, kernel=linear, total= 2.2min\n",
      "[CV]  gamma=0.31763590853, C=84789.8294774, kernel=linear, total= 2.9min\n",
      "[CV]  gamma=0.31763590853, C=84789.8294774, kernel=linear, total= 3.0min\n",
      "[CV]  gamma=0.31763590853, C=84789.8294774, kernel=linear, total= 1.3min\n"
     ]
    },
    {
     "name": "stderr",
     "output_type": "stream",
     "text": [
      "[Parallel(n_jobs=4)]: Done 250 out of 250 | elapsed: 87.4min finished\n"
     ]
    },
    {
     "data": {
      "text/plain": [
       "RandomizedSearchCV(cv=5, error_score='raise',\n",
       "          estimator=SVR(C=1.0, cache_size=200, coef0=0.0, degree=3, epsilon=0.1, gamma='auto',\n",
       "  kernel='rbf', max_iter=-1, shrinking=True, tol=0.001, verbose=False),\n",
       "          fit_params={}, iid=True, n_iter=50, n_jobs=4,\n",
       "          param_distributions={'gamma': <scipy.stats._distn_infrastructure.rv_frozen object at 0x7f00d835b4e0>, 'C': <scipy.stats._distn_infrastructure.rv_frozen object at 0x7f00d8313f28>, 'kernel': ['linear', 'rbf']},\n",
       "          pre_dispatch='2*n_jobs', random_state=42, refit=True,\n",
       "          return_train_score=True, scoring='neg_mean_squared_error',\n",
       "          verbose=2)"
      ]
     },
     "execution_count": 57,
     "metadata": {},
     "output_type": "execute_result"
    }
   ],
   "source": [
    "from sklearn.svm import SVR\n",
    "from scipy.stats import expon, reciprocal\n",
    "\n",
    "param_distribs = {\n",
    "        'kernel': ['linear', 'rbf'],\n",
    "        'C': reciprocal(20, 200000),\n",
    "        'gamma': expon(scale=1.0),\n",
    "    }\n",
    "\n",
    "forest_reg = SVR()\n",
    "grid_search = RandomizedSearchCV(forest_reg, param_distributions=param_distribs,\n",
    "                                n_iter=50, cv=5, scoring='neg_mean_squared_error',verbose=2, n_jobs=4, random_state=42)\n",
    "\n",
    "\n",
    "grid_search.fit(housing_prepared, housing_labels)\n"
   ]
  },
  {
   "cell_type": "code",
   "execution_count": 58,
   "metadata": {},
   "outputs": [
    {
     "name": "stdout",
     "output_type": "stream",
     "text": [
      "52490.037939\n"
     ]
    }
   ],
   "source": [
    "final_model = grid_search.best_estimator_\n",
    "\n",
    "\n",
    "\n",
    "X_test = strat_test_set.drop(\"median_house_value\", axis=1)\n",
    "Y_test = strat_test_set[\"median_house_value\"].copy()\n",
    "\n",
    "X_test_prepared = full_pipeline.transform(X_test)\n",
    "final_predictions = final_model.predict(X_test_prepared)\n",
    "\n",
    "final_mse = mean_squared_error(Y_test, final_predictions)\n",
    "final_rmse = np.sqrt(final_mse)\n",
    "print(final_rmse)\n"
   ]
  },
  {
   "cell_type": "code",
   "execution_count": 62,
   "metadata": {},
   "outputs": [
    {
     "name": "stdout",
     "output_type": "stream",
     "text": [
      "54767.990537\n",
      "{'gamma': 0.26497040005002437, 'C': 157055.10989448498, 'kernel': 'rbf'}\n",
      "SVR(C=157055.10989448498, cache_size=200, coef0=0.0, degree=3, epsilon=0.1,\n",
      "  gamma=0.26497040005002437, kernel='rbf', max_iter=-1, shrinking=True,\n",
      "  tol=0.001, verbose=False)\n"
     ]
    }
   ],
   "source": [
    "negative_mse = grid_search.best_score_\n",
    "rmse = np.sqrt(-negative_mse)\n",
    "print(rmse)\n",
    "print(grid_search.best_params_)\n",
    "print(grid_search.best_estimator_)"
   ]
  },
  {
   "cell_type": "code",
   "execution_count": 59,
   "metadata": {},
   "outputs": [
    {
     "data": {
      "text/plain": [
       "['final_model_data_cleaning.pkl']"
      ]
     },
     "execution_count": 59,
     "metadata": {},
     "output_type": "execute_result"
    }
   ],
   "source": [
    "from sklearn.externals import joblib\n",
    "\n",
    "joblib.dump(final_model, 'final_model_data_cleaning.pkl') \n",
    "final_model = joblib.load('final_model_data_cleaning.pkl') "
   ]
  },
  {
   "cell_type": "markdown",
   "metadata": {},
   "source": [
    "####Ej 3. Select only most important attributes"
   ]
  },
  {
   "cell_type": "code",
   "execution_count": 213,
   "metadata": {},
   "outputs": [
    {
     "name": "stdout",
     "output_type": "stream",
     "text": [
      "[  7.33442355e-02   6.29090705e-02   4.11437985e-02   1.46726854e-02\n",
      "   1.41064835e-02   1.48742809e-02   1.42575993e-02   3.66158981e-01\n",
      "   5.64191792e-02   1.08792957e-01   5.33510773e-02   1.03114883e-02\n",
      "   1.64780994e-01   6.02803867e-05   1.96041560e-03   2.85647464e-03]\n"
     ]
    }
   ],
   "source": [
    "feature_importances = np.array([  7.33442355e-02,   6.29090705e-02,   4.11437985e-02,\n",
    "         1.46726854e-02,   1.41064835e-02,   1.48742809e-02,\n",
    "         1.42575993e-02,   3.66158981e-01,   5.64191792e-02,\n",
    "         1.08792957e-01,   5.33510773e-02,   1.03114883e-02,\n",
    "         1.64780994e-01,   6.02803867e-05,   1.96041560e-03,\n",
    "         2.85647464e-03])\n",
    "print(feature_importances)\n",
    "def indices_of_top_k(arr, k):\n",
    "    return np.sort(np.argpartition(np.array(arr), -k)[-k:])\n",
    "\n",
    "class TopFeatureSelector(BaseEstimator, TransformerMixin):\n",
    "    def __init__(self, feature_importances=[], k=3):\n",
    "            self.k = k\n",
    "            self.feature_importances = feature_importances\n",
    "    def fit(self, X, y=None):\n",
    "        print(\"feature_importances:\", self.feature_importances)\n",
    "        self.feature_indices_ = indices_of_top_k(self.feature_importances, self.k)\n",
    "        return self\n",
    "    def transform(self, X):\n",
    "        return X[:, self.feature_indices_]\n",
    "    \n",
    "class SupervisionFriendlyLabelBinarizer(LabelBinarizer):\n",
    "    \"\"\"LabelBinarizer's fit_transform() method only accepts one parameter y (because it was meant for labels, not predictors), so it does not work in a pipeline where the final estimator is a supervised estimator because in this case its fit() method takes two parameters X and y.\n",
    "       This hack creates a supervision-friendly LabelBinarizer.\"\"\"\n",
    "    def fit_transform(self, X, y=None):\n",
    "        return super(SupervisionFriendlyLabelBinarizer, self).fit_transform(X)\n",
    "    \n",
    "\n",
    "num_pipeline = Pipeline([('selector', DataFrameSelector(num_attribs)),\n",
    "                         ('imputer', Imputer(strategy=\"median\")),\n",
    "                        ('attribs_adder', CombinedAttributesAdder()),\n",
    "                        ('std_scaleer', StandardScaler()),])\n",
    "cat_pipeline = Pipeline([('selector', DataFrameSelector(cat_attribs)),\n",
    "                         ('label_binarizer', SupervisionFriendlyLabelBinarizer()),])\n",
    "\n",
    "full_pipeline = FeatureUnion(transformer_list = [('num_pipeline', num_pipeline),\n",
    "                                                ('cat_pipeline', cat_pipeline)])\n"
   ]
  },
  {
   "cell_type": "markdown",
   "metadata": {},
   "source": [
    "### 4. Single pipeline including prediction"
   ]
  },
  {
   "cell_type": "code",
   "execution_count": 214,
   "metadata": {},
   "outputs": [
    {
     "name": "stdout",
     "output_type": "stream",
     "text": [
      "feature_importances: [  7.33442355e-02   6.29090705e-02   4.11437985e-02   1.46726854e-02\n",
      "   1.41064835e-02   1.48742809e-02   1.42575993e-02   3.66158981e-01\n",
      "   5.64191792e-02   1.08792957e-01   5.33510773e-02   1.03114883e-02\n",
      "   1.64780994e-01   6.02803867e-05   1.96041560e-03   2.85647464e-03]\n"
     ]
    },
    {
     "data": {
      "text/plain": [
       "Pipeline(steps=[('preparation', FeatureUnion(n_jobs=1,\n",
       "       transformer_list=[('num_pipeline', Pipeline(steps=[('selector', DataFrameSelector(attribute_names=['longitude', 'latitude', 'housing_median_age', 'total_rooms', 'total_bedrooms', 'population', 'households', 'median_income'])), ('imputer', Imputer(... gamma=0.26497040005002437, kernel='rbf', max_iter=-1, shrinking=True,\n",
       "  tol=0.001, verbose=False))])"
      ]
     },
     "execution_count": 214,
     "metadata": {},
     "output_type": "execute_result"
    }
   ],
   "source": [
    "prepare_select_and_predict_pipeline = Pipeline([\n",
    "    ('preparation', full_pipeline),\n",
    "      ('feature_selection', TopFeatureSelector(feature_importances, k=3)),\n",
    "    ('svm_reg', SVR(**grid_search.best_params_))\n",
    "])\n",
    "prepare_select_and_predict_pipeline.fit(housing, housing_labels)\n"
   ]
  },
  {
   "cell_type": "code",
   "execution_count": 215,
   "metadata": {},
   "outputs": [
    {
     "name": "stdout",
     "output_type": "stream",
     "text": [
      "Fitting 5 folds for each of 3 candidates, totalling 15 fits\n",
      "[CV] feature_selection__k=3, preparation__num_pipeline__imputer__strategy=mean \n",
      "[CV] feature_selection__k=3, preparation__num_pipeline__imputer__strategy=mean \n",
      "[CV] feature_selection__k=3, preparation__num_pipeline__imputer__strategy=mean \n",
      "[CV] feature_selection__k=3, preparation__num_pipeline__imputer__strategy=mean \n",
      "feature_importances: [  7.33442355e-02   6.29090705e-02   4.11437985e-02   1.46726854e-02\n",
      "   1.41064835e-02   1.48742809e-02   1.42575993e-02   3.66158981e-01\n",
      "   5.64191792e-02   1.08792957e-01   5.33510773e-02   1.03114883e-02\n",
      "   1.64780994e-01   6.02803867e-05   1.96041560e-03   2.85647464e-03]feature_importances: [  7.33442355e-02   6.29090705e-02   4.11437985e-02   1.46726854e-02\n",
      "   1.41064835e-02   1.48742809e-02   1.42575993e-02   3.66158981e-01\n",
      "   5.64191792e-02   1.08792957e-01   5.33510773e-02   1.03114883e-02\n",
      "   1.64780994e-01   6.02803867e-05   1.96041560e-03   2.85647464e-03]\n",
      "feature_importances: [  7.33442355e-02   6.29090705e-02   4.11437985e-02   1.46726854e-02\n",
      "   1.41064835e-02   1.48742809e-02   1.42575993e-02   3.66158981e-01\n",
      "   5.64191792e-02   1.08792957e-01   5.33510773e-02   1.03114883e-02\n",
      "   1.64780994e-01   6.02803867e-05   1.96041560e-03   2.85647464e-03]\n",
      "\n",
      "feature_importances: [  7.33442355e-02   6.29090705e-02   4.11437985e-02   1.46726854e-02\n",
      "   1.41064835e-02   1.48742809e-02   1.42575993e-02   3.66158981e-01\n",
      "   5.64191792e-02   1.08792957e-01   5.33510773e-02   1.03114883e-02\n",
      "   1.64780994e-01   6.02803867e-05   1.96041560e-03   2.85647464e-03]\n",
      "[CV]  feature_selection__k=3, preparation__num_pipeline__imputer__strategy=mean, total=  24.6s\n",
      "[CV] feature_selection__k=3, preparation__num_pipeline__imputer__strategy=mean \n",
      "feature_importances: [  7.33442355e-02   6.29090705e-02   4.11437985e-02   1.46726854e-02\n",
      "   1.41064835e-02   1.48742809e-02   1.42575993e-02   3.66158981e-01\n",
      "   5.64191792e-02   1.08792957e-01   5.33510773e-02   1.03114883e-02\n",
      "   1.64780994e-01   6.02803867e-05   1.96041560e-03   2.85647464e-03]\n",
      "[CV]  feature_selection__k=3, preparation__num_pipeline__imputer__strategy=mean, total=  25.1s\n",
      "[CV] feature_selection__k=3, preparation__num_pipeline__imputer__strategy=median \n",
      "[CV]  feature_selection__k=3, preparation__num_pipeline__imputer__strategy=mean, total=  25.2s\n",
      "[CV] feature_selection__k=3, preparation__num_pipeline__imputer__strategy=median \n",
      "feature_importances: [  7.33442355e-02   6.29090705e-02   4.11437985e-02   1.46726854e-02\n",
      "   1.41064835e-02   1.48742809e-02   1.42575993e-02   3.66158981e-01\n",
      "   5.64191792e-02   1.08792957e-01   5.33510773e-02   1.03114883e-02\n",
      "   1.64780994e-01   6.02803867e-05   1.96041560e-03   2.85647464e-03]\n",
      "feature_importances: [  7.33442355e-02   6.29090705e-02   4.11437985e-02   1.46726854e-02\n",
      "   1.41064835e-02   1.48742809e-02   1.42575993e-02   3.66158981e-01\n",
      "   5.64191792e-02   1.08792957e-01   5.33510773e-02   1.03114883e-02\n",
      "   1.64780994e-01   6.02803867e-05   1.96041560e-03   2.85647464e-03]\n",
      "[CV]  feature_selection__k=3, preparation__num_pipeline__imputer__strategy=mean, total=  25.5s\n",
      "[CV] feature_selection__k=3, preparation__num_pipeline__imputer__strategy=median \n",
      "feature_importances: [  7.33442355e-02   6.29090705e-02   4.11437985e-02   1.46726854e-02\n",
      "   1.41064835e-02   1.48742809e-02   1.42575993e-02   3.66158981e-01\n",
      "   5.64191792e-02   1.08792957e-01   5.33510773e-02   1.03114883e-02\n",
      "   1.64780994e-01   6.02803867e-05   1.96041560e-03   2.85647464e-03]\n",
      "[CV]  feature_selection__k=3, preparation__num_pipeline__imputer__strategy=median, total=  29.2s\n",
      "[CV] feature_selection__k=3, preparation__num_pipeline__imputer__strategy=median \n",
      "[CV]  feature_selection__k=3, preparation__num_pipeline__imputer__strategy=median, total=  28.6s\n",
      "feature_importances: [  7.33442355e-02   6.29090705e-02   4.11437985e-02   1.46726854e-02\n",
      "   1.41064835e-02   1.48742809e-02   1.42575993e-02   3.66158981e-01\n",
      "   5.64191792e-02   1.08792957e-01   5.33510773e-02   1.03114883e-02\n",
      "   1.64780994e-01   6.02803867e-05   1.96041560e-03   2.85647464e-03][CV] feature_selection__k=3, preparation__num_pipeline__imputer__strategy=median \n",
      "\n",
      "feature_importances: [  7.33442355e-02   6.29090705e-02   4.11437985e-02   1.46726854e-02\n",
      "   1.41064835e-02   1.48742809e-02   1.42575993e-02   3.66158981e-01\n",
      "   5.64191792e-02   1.08792957e-01   5.33510773e-02   1.03114883e-02\n",
      "   1.64780994e-01   6.02803867e-05   1.96041560e-03   2.85647464e-03]\n",
      "[CV]  feature_selection__k=3, preparation__num_pipeline__imputer__strategy=mean, total=  30.0s\n",
      "[CV] feature_selection__k=3, preparation__num_pipeline__imputer__strategy=most_frequent \n",
      "[CV]  feature_selection__k=3, preparation__num_pipeline__imputer__strategy=median, total=  29.7s\n",
      "[CV] feature_selection__k=3, preparation__num_pipeline__imputer__strategy=most_frequent \n",
      "feature_importances: [  7.33442355e-02   6.29090705e-02   4.11437985e-02   1.46726854e-02\n",
      "   1.41064835e-02   1.48742809e-02   1.42575993e-02   3.66158981e-01\n",
      "   5.64191792e-02   1.08792957e-01   5.33510773e-02   1.03114883e-02\n",
      "   1.64780994e-01   6.02803867e-05   1.96041560e-03   2.85647464e-03]\n",
      "feature_importances: [  7.33442355e-02   6.29090705e-02   4.11437985e-02   1.46726854e-02\n",
      "   1.41064835e-02   1.48742809e-02   1.42575993e-02   3.66158981e-01\n",
      "   5.64191792e-02   1.08792957e-01   5.33510773e-02   1.03114883e-02\n",
      "   1.64780994e-01   6.02803867e-05   1.96041560e-03   2.85647464e-03]\n",
      "[CV]  feature_selection__k=3, preparation__num_pipeline__imputer__strategy=median, total=  32.9s\n",
      "[CV] feature_selection__k=3, preparation__num_pipeline__imputer__strategy=most_frequent \n",
      "[CV]  feature_selection__k=3, preparation__num_pipeline__imputer__strategy=median, total=  32.2s\n",
      "[CV] feature_selection__k=3, preparation__num_pipeline__imputer__strategy=most_frequent \n",
      "feature_importances: [  7.33442355e-02   6.29090705e-02   4.11437985e-02   1.46726854e-02\n",
      "   1.41064835e-02   1.48742809e-02   1.42575993e-02   3.66158981e-01\n",
      "   5.64191792e-02   1.08792957e-01   5.33510773e-02   1.03114883e-02\n",
      "   1.64780994e-01   6.02803867e-05   1.96041560e-03   2.85647464e-03]\n",
      "feature_importances: [  7.33442355e-02   6.29090705e-02   4.11437985e-02   1.46726854e-02\n",
      "   1.41064835e-02   1.48742809e-02   1.42575993e-02   3.66158981e-01\n",
      "   5.64191792e-02   1.08792957e-01   5.33510773e-02   1.03114883e-02\n",
      "   1.64780994e-01   6.02803867e-05   1.96041560e-03   2.85647464e-03]\n",
      "[CV]  feature_selection__k=3, preparation__num_pipeline__imputer__strategy=most_frequent, total=  37.9s\n",
      "[CV] feature_selection__k=3, preparation__num_pipeline__imputer__strategy=most_frequent \n",
      "[CV]  feature_selection__k=3, preparation__num_pipeline__imputer__strategy=most_frequent, total=  35.5s\n",
      "feature_importances: [  7.33442355e-02   6.29090705e-02   4.11437985e-02   1.46726854e-02\n",
      "   1.41064835e-02   1.48742809e-02   1.42575993e-02   3.66158981e-01\n",
      "   5.64191792e-02   1.08792957e-01   5.33510773e-02   1.03114883e-02\n",
      "   1.64780994e-01   6.02803867e-05   1.96041560e-03   2.85647464e-03]\n",
      "[CV]  feature_selection__k=3, preparation__num_pipeline__imputer__strategy=most_frequent, total=  26.0s\n",
      "[CV]  feature_selection__k=3, preparation__num_pipeline__imputer__strategy=most_frequent, total=  26.5s\n",
      "[CV]  feature_selection__k=3, preparation__num_pipeline__imputer__strategy=most_frequent, total=  25.0s\n"
     ]
    },
    {
     "name": "stderr",
     "output_type": "stream",
     "text": [
      "[Parallel(n_jobs=4)]: Done  15 out of  15 | elapsed:  2.8min finished\n"
     ]
    },
    {
     "name": "stdout",
     "output_type": "stream",
     "text": [
      "feature_importances: [  7.33442355e-02   6.29090705e-02   4.11437985e-02   1.46726854e-02\n",
      "   1.41064835e-02   1.48742809e-02   1.42575993e-02   3.66158981e-01\n",
      "   5.64191792e-02   1.08792957e-01   5.33510773e-02   1.03114883e-02\n",
      "   1.64780994e-01   6.02803867e-05   1.96041560e-03   2.85647464e-03]\n"
     ]
    },
    {
     "data": {
      "text/plain": [
       "GridSearchCV(cv=5, error_score='raise',\n",
       "       estimator=Pipeline(steps=[('preparation', FeatureUnion(n_jobs=1,\n",
       "       transformer_list=[('num_pipeline', Pipeline(steps=[('selector', DataFrameSelector(attribute_names=['longitude', 'latitude', 'housing_median_age', 'total_rooms', 'total_bedrooms', 'population', 'households', 'median_income'])), ('imputer', Imputer(... gamma=0.26497040005002437, kernel='rbf', max_iter=-1, shrinking=True,\n",
       "  tol=0.001, verbose=False))]),\n",
       "       fit_params={}, iid=True, n_jobs=4,\n",
       "       param_grid=[{'feature_selection__k': [3], 'preparation__num_pipeline__imputer__strategy': ['mean', 'median', 'most_frequent']}],\n",
       "       pre_dispatch='2*n_jobs', refit=True, return_train_score=True,\n",
       "       scoring='neg_mean_squared_error', verbose=2)"
      ]
     },
     "execution_count": 215,
     "metadata": {},
     "output_type": "execute_result"
    }
   ],
   "source": [
    "### configuring a pipeline params\n",
    "from sklearn.model_selection import GridSearchCV\n",
    "param_grid = [\n",
    "        {'preparation__num_pipeline__imputer__strategy': ['mean', 'median', 'most_frequent'],\n",
    "         'feature_selection__k': [3]}\n",
    "]\n",
    "\n",
    "grid_search_prep = GridSearchCV(prepare_select_and_predict_pipeline, param_grid, cv=5,\n",
    "                                scoring='neg_mean_squared_error', verbose=2, n_jobs=4)\n",
    "grid_search_prep.fit(housing, housing_labels)"
   ]
  }
 ],
 "metadata": {
  "kernelspec": {
   "display_name": "Python 3",
   "language": "python",
   "name": "python3"
  },
  "language_info": {
   "codemirror_mode": {
    "name": "ipython",
    "version": 3
   },
   "file_extension": ".py",
   "mimetype": "text/x-python",
   "name": "python",
   "nbconvert_exporter": "python",
   "pygments_lexer": "ipython3",
   "version": "3.5.2"
  }
 },
 "nbformat": 4,
 "nbformat_minor": 2
}
